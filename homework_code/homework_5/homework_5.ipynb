{
 "cells": [
  {
   "cell_type": "code",
   "execution_count": 1,
   "metadata": {},
   "outputs": [],
   "source": [
    "import pandas as pd \n",
    "import numpy as np\n",
    "from scipy import stats"
   ]
  },
  {
   "cell_type": "code",
   "execution_count": 14,
   "metadata": {},
   "outputs": [
    {
     "data": {
      "text/plain": [
       "(4082, 2)"
      ]
     },
     "execution_count": 14,
     "metadata": {},
     "output_type": "execute_result"
    }
   ],
   "source": [
    "data=pd.read_csv(r'C:\\Users\\buzga\\Desktop\\School\\grad_school\\spring_2023\\prob_stats_2\\homework\\homework_5\\ANSUR II MALE Public.csv')\n",
    "data.head()\n",
    "data=data[[\"footlength\", \"stature\"]]\n",
    "data=data.values\n",
    "data\n",
    "#.values\n",
    "#print(data.values[:, 0])\n",
    "data.shape"
   ]
  },
  {
   "cell_type": "code",
   "execution_count": 58,
   "metadata": {},
   "outputs": [
    {
     "data": {
      "image/png": "[encoded data removed]",
      "text/plain": [
       "<Figure size 432x288 with 1 Axes>"
      ]
     },
     "metadata": {
      "needs_background": "light"
     },
     "output_type": "display_data"
    },
    {
     "data": {
      "text/plain": [
       "<matplotlib.legend.Legend at 0x1f0201c8ca0>"
      ]
     },
     "execution_count": 58,
     "metadata": {},
     "output_type": "execute_result"
    },
    {
     "data": {
      "image/png": "[encoded data removed]",
      "text/plain": [
       "<Figure size 432x288 with 1 Axes>"
      ]
     },
     "metadata": {
      "needs_background": "light"
     },
     "output_type": "display_data"
    }
   ],
   "source": [
    "import matplotlib.pyplot as plt\n",
    "#def generate_bootstrap_samples(n, sample):\n",
    "def sample_data(n):\n",
    "    np.random.shuffle(data)\n",
    "    return data[0:n]\n",
    "def generate_bootstrap_samples(sample, number,rng):\n",
    "    return rng.choice(sample, size=(number,len(sample)), replace=True)\n",
    "def bootstrap_sample_corelations(bootsraps):\n",
    "    return np.array([np.corrcoef(bootsraps[i][:,0], bootsraps[i][:,1])[0][1] for i in range(len(bootsraps))])\n",
    "\n",
    "def get_gaussina_bootstrap_ci(alpha,sample, boot_cors):\n",
    "    se=np.std(boot_cors)/np.sqrt(len(boot_cors))\n",
    "    c_alpha=stats.norm.ppf(1-(alpha)/2)\n",
    "    mean=np.corrcoef(sample[:,0],sample[:,1])[0][1]\n",
    "    return (mean-se*c_alpha, mean+se*c_alpha)\n",
    "\n",
    "def get_percentile_bootsrrap_ci(alpha, boot_cors):\n",
    "    lower=np.percentile(boot_cors, ((alpha)*50))\n",
    "    upper=np.percentile(boot_cors,(100- ((alpha)*50)))  \n",
    "    return [lower, upper]\n",
    "def unmodfied_gaursian_ci(alpha, sample):\n",
    "    se=np.std(sample)\n",
    "    print(se)\n",
    "    c_alpha=stats.norm.ppf(1-(alpha)/2)\n",
    "    mean=np.corrcoef(sample[:,0],sample[:,1])[0][1]\n",
    "    return (mean-se*c_alpha, mean+se*c_alpha)\n",
    "\n",
    "\n",
    "def generate_many_gaussian(sample, num_bootstraps, num_epochs,alpha):\n",
    "    bounds=[]\n",
    "    contains_population=[]\n",
    "    rng=np.random.default_rng()\n",
    "    population_cor=np.corrcoef(data[:,0],data[:,1])[0][1]\n",
    "    for i in range(num_epochs):\n",
    "        boot_straps=generate_bootstrap_samples(sample, num_bootstraps,rng)\n",
    "        boot_cors=bootstrap_sample_corelations(boot_straps)\n",
    "        a=get_gaussina_bootstrap_ci(alpha,sample, boot_cors)\n",
    "        bounds.append(a)   \n",
    "        contains_population.append(((a[0]<=population_cor)and (a[1]>=population_cor)))\n",
    "    contains_population=np.array(contains_population)\n",
    "    a=np.sum(contains_population)/len(contains_population)\n",
    "    print(a) \n",
    "    return np.array(bounds)\n",
    "def generate_many_percente(sample, num_bootstraps, num_epochs,alpha):\n",
    "    bounds=[]\n",
    "    print(len(sample))\n",
    "    rng=np.random.default_rng()\n",
    "    contains_population=[]\n",
    "    population_cor=np.corrcoef(data[:,0],data[:,1])[0][1]\n",
    "    for i in range(num_epochs):\n",
    "        boot_straps=generate_bootstrap_samples(sample, num_bootstraps,rng)\n",
    "        boot_cors=bootstrap_sample_corelations(boot_straps)\n",
    "        a=get_percentile_bootsrrap_ci(alpha, boot_cors)\n",
    "        bounds.append(a)   \n",
    "        contains_population.append(((a[0]<=population_cor)and (a[1]>=population_cor)))\n",
    "    contains_population=np.array(contains_population)\n",
    "    a=np.sum(contains_population)/len(contains_population)\n",
    "    print(a) \n",
    "    return bounds\n",
    "\n",
    "\n",
    "sample=sample_data(25)\n",
    "rng=np.random.default_rng()\n",
    "b=generate_bootstrap_samples(sample, 100,rng)\n",
    "boot_cors=bootstrap_sample_corelations(b)\n",
    "alpha=.05\n",
    "percentile_bound=get_percentile_bootsrrap_ci(alpha, boot_cors)\n",
    "gausian_bounds=get_gaussina_bootstrap_ci(alpha,sample, boot_cors)\n",
    "\n",
    "x_1 = np.arange(1, 2)\n",
    "x_2 = x_1 + 0.1\n",
    "x=[np.corrcoef(sample[:,0],sample[:,1])[0][1],np.corrcoef(sample[:,0],sample[:,1])[0][1]]\n",
    "plt.plot(x,percentile_bound, label=\"percentile bound\")\n",
    "plt.scatter(np.corrcoef(sample[:,0],sample[:,1])[0][1],np.corrcoef(data[:,0],data[:,1])[0][1], label=\"True value\", c=\"r\")\n",
    "plt.show()\n",
    "\n",
    "plt.plot(x,gausian_bounds, label=\"gaussian bound\")\n",
    "plt.scatter(np.corrcoef(sample[:,0],sample[:,1])[0][1],np.corrcoef(data[:,0],data[:,1])[0][1], label=\"True value\", c=\"r\")\n",
    "plt.legend()\n",
    "\n",
    "\n",
    "# plt.errorbar(x=x_1, y=y_1, yerr=bound, color=\"black\", capsize=3,\n",
    "#              linestyle=\"None\",\n",
    "#              marker=\"s\", markersize=7, mfc=\"black\", mec=\"black\")"
   ]
  },
  {
   "cell_type": "code",
   "execution_count": 101,
   "metadata": {},
   "outputs": [
    {
     "name": "stdout",
     "output_type": "stream",
     "text": [
      "0.0\n"
     ]
    },
    {
     "data": {
      "image/png": "[encoded data removed]",
      "text/plain": [
       "<Figure size 432x288 with 1 Axes>"
      ]
     },
     "metadata": {
      "needs_background": "light"
     },
     "output_type": "display_data"
    },
    {
     "name": "stdout",
     "output_type": "stream",
     "text": [
      "1000\n",
      "1.0\n"
     ]
    },
    {
     "data": {
      "text/plain": [
       "Text(0.5, 1.0, 'boostrap confidince intervals')"
      ]
     },
     "execution_count": 101,
     "metadata": {},
     "output_type": "execute_result"
    },
    {
     "data": {
      "image/png": "[encoded data removed]",
      "text/plain": [
       "<Figure size 432x288 with 1 Axes>"
      ]
     },
     "metadata": {
      "needs_background": "light"
     },
     "output_type": "display_data"
    }
   ],
   "source": [
    "sample=sample_data(1000)\n",
    "alpha=.05\n",
    "a=generate_many_gaussian(sample, 50, 100,alpha)\n",
    "\n",
    "x=range(10)\n",
    "for i in x:\n",
    "    plt.plot([x[i], x[i]], a[i] )\n",
    "    plt.scatter([x[i]], np.corrcoef(data[:,0],data[:,1])[0][1], label=\"True value\", c=\"r\")\n",
    "plt.title(\"gaussian confidince intervals\")\n",
    "plt.show()\n",
    "\n",
    "sample=sample_data(1000)\n",
    "alpha=.05\n",
    "a=generate_many_percente(sample, 50, 100,alpha)\n",
    "x=range(25)\n",
    "for i in x:\n",
    "    plt.plot([x[i], x[i]], a[i] )\n",
    "    plt.scatter([x[i]], np.corrcoef(data[:,0],data[:,1])[0][1], label=\"True value\", c=\"r\")\n",
    "plt.title(\"boostrap confidince intervals\")"
   ]
  },
  {
   "cell_type": "code",
   "execution_count": 103,
   "metadata": {},
   "outputs": [
    {
     "data": {
      "text/plain": [
       "(4082, 1)"
      ]
     },
     "execution_count": 103,
     "metadata": {},
     "output_type": "execute_result"
    }
   ],
   "source": [
    "data=pd.read_csv(r'C:\\Users\\buzga\\Desktop\\School\\grad_school\\spring_2023\\prob_stats_2\\homework\\homework_5\\ANSUR II MALE Public.csv')\n",
    "data.head()\n",
    "data=data[[\"stature\"]]\n",
    "data=data.values\n",
    "data\n",
    "#.values\n",
    "#print(data.values[:, 0])\n",
    "data.shape"
   ]
  },
  {
   "cell_type": "code",
   "execution_count": 109,
   "metadata": {},
   "outputs": [
    {
     "name": "stdout",
     "output_type": "stream",
     "text": [
      "0.0\n"
     ]
    },
    {
     "data": {
      "image/png": "[encoded data removed]",
      "text/plain": [
       "<Figure size 432x288 with 1 Axes>"
      ]
     },
     "metadata": {
      "needs_background": "light"
     },
     "output_type": "display_data"
    },
    {
     "name": "stdout",
     "output_type": "stream",
     "text": [
      "100\n",
      "0.0\n",
      "[[4383.48548016, 4383.48548016], [4411.5140817599995, 4411.5140817599995], [4334.11301184, 4334.11301184], [4536.398863840001, 4536.398863840001], [4535.4647377599995, 4535.4647377599995]]\n"
     ]
    },
    {
     "data": {
      "text/plain": [
       "Text(0.5, 1.0, 'boostrap confidince intervals')"
      ]
     },
     "execution_count": 109,
     "metadata": {},
     "output_type": "execute_result"
    },
    {
     "data": {
      "image/png": "[encoded data removed]",
      "text/plain": [
       "<Figure size 432x288 with 1 Axes>"
      ]
     },
     "metadata": {
      "needs_background": "light"
     },
     "output_type": "display_data"
    }
   ],
   "source": [
    "import matplotlib.pyplot as plt\n",
    "#def generate_bootstrap_samples(n, sample):\n",
    "def sample_data(n):\n",
    "    np.random.shuffle(data)\n",
    "    return data[0:n]\n",
    "def generate_bootstrap_samples(sample, number,rng):\n",
    "    return rng.choice(sample, size=(number,len(sample)), replace=True)\n",
    "def bootstrap_sample_varinace(bootsraps):\n",
    "    return np.array( [np.var(bootsraps)  for i in range(len(bootsraps))])\n",
    "\n",
    "def get_gaussina_bootstrap_ci(alpha,sample, boot_cors):\n",
    "    se=np.std(boot_cors)/np.sqrt(len(boot_cors))\n",
    "    c_alpha=stats.norm.ppf(1-(alpha)/2)\n",
    "    mean=np.var(sample)\n",
    "    return (mean-se*c_alpha, mean+se*c_alpha)\n",
    "\n",
    "def get_percentile_bootsrrap_ci(alpha, boot_cors):\n",
    "    lower=np.percentile(boot_cors, ((alpha)*50))\n",
    "    upper=np.percentile(boot_cors,(100- ((alpha)*50)))  \n",
    "    return [lower, upper]\n",
    "def unmodfied_gaursian_ci(alpha, sample):\n",
    "    se=np.std(sample)\n",
    "    print(se)\n",
    "    c_alpha=stats.norm.ppf(1-(alpha)/2)\n",
    "    mean=np.var(sample)\n",
    "    return (mean-se*c_alpha, mean+se*c_alpha)\n",
    "\n",
    "\n",
    "def generate_many_gaussian(sample, num_bootstraps, num_epochs,alpha):\n",
    "    bounds=[]\n",
    "    contains_population=[]\n",
    "    rng=np.random.default_rng()\n",
    "    population_cor=np.var(data)\n",
    "    for i in range(num_epochs):\n",
    "        boot_straps=generate_bootstrap_samples(sample, num_bootstraps,rng)\n",
    "        boot_cors=bootstrap_sample_varinace(boot_straps)\n",
    "        a=get_gaussina_bootstrap_ci(alpha,sample, boot_cors)\n",
    "        bounds.append(a)   \n",
    "        contains_population.append(((a[0]<=population_cor)and (a[1]>=population_cor)))\n",
    "    contains_population=np.array(contains_population)\n",
    "    a=np.sum(contains_population)/len(contains_population)\n",
    "    print(a) \n",
    "    return np.array(bounds)\n",
    "def generate_many_percente(sample, num_bootstraps, num_epochs,alpha):\n",
    "    bounds=[]\n",
    "    print(len(sample))\n",
    "    rng=np.random.default_rng()\n",
    "    contains_population=[]\n",
    "    population_cor=np.var(data)\n",
    "    for i in range(num_epochs):\n",
    "        boot_straps=generate_bootstrap_samples(sample, num_bootstraps,rng)\n",
    "        boot_cors=bootstrap_sample_varinace(boot_straps)\n",
    "        a=get_percentile_bootsrrap_ci(alpha, boot_cors)\n",
    "        bounds.append(a)   \n",
    "        contains_population.append(((a[0]<=population_cor)and (a[1]>=population_cor)))\n",
    "    contains_population=np.array(contains_population)\n",
    "    a=np.sum(contains_population)/len(contains_population)\n",
    "    print(a) \n",
    "    return bounds\n",
    "\n",
    "sample=sample_data(100)\n",
    "alpha=.05\n",
    "a=generate_many_gaussian(sample, 25, 5,alpha)\n",
    "#print(a)\n",
    "x=range(5)\n",
    "for i in x:\n",
    "    plt.plot([x[i], x[i]], a[i] )\n",
    "    plt.scatter([x[i]], np.var(data), label=\"True value\", c=\"r\")\n",
    "plt.title(\"gaussian confidince intervals\")\n",
    "plt.show()\n",
    "\n",
    "sample=sample_data(100)\n",
    "alpha=.05\n",
    "a=generate_many_percente(sample, 25, 5,alpha)\n",
    "x=range(5)\n",
    "print(a)\n",
    "for i in x:\n",
    "    plt.plot([x[i], x[i]], a[i] )\n",
    "    plt.scatter([x[i]], np.var(data), label=\"True value\", c=\"r\")\n",
    "plt.title(\"boostrap confidince intervals\")"
   ]
  }
 ],
 "metadata": {
  "kernelspec": {
   "display_name": "Python 3",
   "language": "python",
   "name": "python3"
  },
  "language_info": {
   "codemirror_mode": {
    "name": "ipython",
    "version": 3
   },
   "file_extension": ".py",
   "mimetype": "text/x-python",
   "name": "python",
   "nbconvert_exporter": "python",
   "pygments_lexer": "ipython3",
   "version": "3.10.6"
  },
  "orig_nbformat": 4,
  "vscode": {
   "interpreter": {
    "hash": "916dbcbb3f70747c44a77c7bcd40155683ae19c65e1c03b4aa3499c5328201f1"
   }
  }
 },
 "nbformat": 4,
 "nbformat_minor": 2
}
