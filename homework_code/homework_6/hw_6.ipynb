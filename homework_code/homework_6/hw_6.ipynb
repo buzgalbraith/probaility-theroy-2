{
 "cells": [
  {
   "attachments": {},
   "cell_type": "markdown",
   "metadata": {},
   "source": [
    "- the alternaitve is that the dangerous section of highway is dangerous\n",
    "-  her null is that accidents are iid  allong the whole 10 mile rode\n",
    "- her test stat is the number of acicdents on taht 2.5 mile section (so if there are many accident there is evedince for the alternative and it is high )\n",
    "- $\\alpha=.05$ \n",
    "- the p value is teh likyhood of observating a test stat that is larger than or equal to waht we saw under the null hpyothsis \n",
    "- call $\\Tilde{p}$ the postition of an accident \n",
    "- under our null we think that $\\Tilde{p}\\sim \\mathcal{U}(0,10)$ \n",
    "- call $\\theta$ the likyhood of crashing in that specfic section of rode. \n",
    "- under our null  we can think of each car crash as independint, identitcally distributed bernulies thus we can think of there sum (that is the total number of car crashes) as a distribute acroding to a binomial with parameters n=4 and $\\theta$\n",
    "- we know that this implies that our p-value function $pv(t)=P(u\\geq t)=\\Sigma_{i=t}^{n}\\begin{pmatrix}n\\\\i\\end{pmatrix}(\\theta)^{i}(1-\\theta)^{n-i}$\n",
    "- the liklyhood of a false postive as we showed in class is equal to $\\alpha$so in this case it is $5\\%$ \n",
    "- the power function is a function that maps any given effect size $\\theta$ to our likelyhood of rejecting the null hyptohsis. ie $$pow(\\theta)=P(pv(t_{\\theta})\\leq \\alpha) $$\n",
    "- so call $\\theta$ the liklyhood of crashing during a null \n",
    "- so first things first we need to find our $\\tau_{\\threshold}$"
   ]
  }
 ],
 "metadata": {
  "language_info": {
   "name": "python"
  },
  "orig_nbformat": 4
 },
 "nbformat": 4,
 "nbformat_minor": 2
}
