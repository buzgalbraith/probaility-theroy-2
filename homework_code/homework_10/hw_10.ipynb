{
 "cells": [
  {
   "cell_type": "code",
   "execution_count": 1,
   "metadata": {},
   "outputs": [],
   "source": [
    "import numpy as np\n",
    "import sklearn.decomposition"
   ]
  },
  {
   "cell_type": "code",
   "execution_count": 2,
   "metadata": {},
   "outputs": [
    {
     "data": {
      "text/plain": [
       "array([[6., 1., 1., 0., 0., 1., 9., 0., 8.],\n",
       "       [1., 0., 9., 5., 8., 1., 0., 1., 0.],\n",
       "       [8., 1., 0., 1., 0., 0., 9., 1., 7.],\n",
       "       [0., 7., 1., 0., 0., 9., 1., 7., 0.],\n",
       "       [0., 5., 6., 7., 5., 6., 0., 7., 2.],\n",
       "       [1., 0., 8., 5., 9., 2., 0., 0., 1.]])"
      ]
     },
     "execution_count": 2,
     "metadata": {},
     "output_type": "execute_result"
    }
   ],
   "source": [
    "D=np.zeros((6,9))\n",
    "D[0,:]=np.array([6,1,1,0,0,1,9,0,8])\n",
    "D[1,:]=np.array([1,0,9,5,8,1,0,1,0])\n",
    "D[2,:]=np.array([8,1,0,1,0,0,9,1,7])\n",
    "D[3,:]=np.array([0,7,1,0,0,9,1,7,0])\n",
    "D[4,:]=np.array([0,5,6,7,5,6,0,7,2])\n",
    "D[5,:]=np.array([1,0,8,5,9,2,0,0,1])\n",
    "D"
   ]
  },
  {
   "cell_type": "code",
   "execution_count": 3,
   "metadata": {},
   "outputs": [],
   "source": [
    "u,s,v=np.linalg.svd(D)"
   ]
  },
  {
   "cell_type": "code",
   "execution_count": 17,
   "metadata": {},
   "outputs": [
    {
     "name": "stdout",
     "output_type": "stream",
     "text": [
      "(9, 3)\n",
      "\\begin{pmatrix}\n",
      "0.7700893907585723&0.0&4.364729682415467&\\\\\n",
      "0.0&12.509289929931949&0.5964143953646323&\\\\\n",
      "8.576648468871714&1.2181727627148176&0.26983547595370566&\\\\\n",
      "5.834785154380818&2.5551405450073283&0.2870235473861541&\\\\\n",
      "8.432054233526953&0.0&0.0&\\\\\n",
      "1.1881351761372119&15.002287244919865&0.2742651092207244&\\\\\n",
      "0.0&1.1696210286650313&5.596533909991402&\\\\\n",
      "0.8030894663548505&13.755338675986385&0.28183604016162983&\\\\\n",
      "0.7997879624055215&1.2575899238801933&4.655583607159878&\\\\\n",
      "\\end{pmatrix}\n"
     ]
    },
    {
     "data": {
      "text/plain": [
       "array([3, 2, 1, 1, 1, 2, 3, 2, 3])"
      ]
     },
     "execution_count": 17,
     "metadata": {},
     "output_type": "execute_result"
    }
   ],
   "source": [
    "def latex_print(D):\n",
    "    D=D.reshape(D.shape[0],-1)\n",
    "    print(D.shape)\n",
    "    print(\"\\\\begin{pmatrix}\")\n",
    "    for row in D:\n",
    "        for el in row:\n",
    "            print(el, end=\"&\")\n",
    "        print(\"\\\\\\\\\")\n",
    "    print(\"\\\\end{pmatrix}\")\n",
    "\n",
    "latex_print(B.T)\n",
    "np.argmax(B.T, axis=1)+1"
   ]
  },
  {
   "cell_type": "code",
   "execution_count": 8,
   "metadata": {},
   "outputs": [],
   "source": [
    "r=3\n",
    "non_negative_factor=sklearn.decomposition.NMF(n_components=r)\n",
    "A = non_negative_factor.fit_transform(D)\n",
    "B = non_negative_factor.components_\n",
    "non_negative_model = A @ B\n"
   ]
  },
  {
   "cell_type": "code",
   "execution_count": 9,
   "metadata": {},
   "outputs": [
    {
     "data": {
      "text/plain": [
       "(6, 9)"
      ]
     },
     "execution_count": 9,
     "metadata": {},
     "output_type": "execute_result"
    }
   ],
   "source": [
    "\n",
    "u,s,v=np.linalg.svd(D)\n",
    "svd_model= u[:, :r] @ np.diag(s[:r]) @ v[:r, :]\n",
    "svd_model.shape"
   ]
  },
  {
   "cell_type": "code",
   "execution_count": 11,
   "metadata": {},
   "outputs": [
    {
     "name": "stdout",
     "output_type": "stream",
     "text": [
      "4.3754096254710015\n",
      "4.444581123006968\n"
     ]
    }
   ],
   "source": [
    "def forbinus_norm(X):\n",
    "    M=X.T@X\n",
    "    return np.sqrt(np.sum([M[i,i] for i in range(M.shape[0])]))\n",
    "def forbinus_error(M,L):\n",
    "    return forbinus_norm(L-M)**2\n",
    "print(forbinus_norm(svd_model-D))\n",
    "print(forbinus_norm(non_negative_model-D))\n",
    "\n",
    "# print(forbinus_error(D,svd_model))\n",
    "# print(forbinus_error(D,non_negative_model))\n"
   ]
  },
  {
   "cell_type": "code",
   "execution_count": null,
   "metadata": {},
   "outputs": [],
   "source": []
  }
 ],
 "metadata": {
  "kernelspec": {
   "display_name": "prob_stats_2",
   "language": "python",
   "name": "python3"
  },
  "language_info": {
   "codemirror_mode": {
    "name": "ipython",
    "version": 3
   },
   "file_extension": ".py",
   "mimetype": "text/x-python",
   "name": "python",
   "nbconvert_exporter": "python",
   "pygments_lexer": "ipython3",
   "version": "3.10.9"
  },
  "orig_nbformat": 4
 },
 "nbformat": 4,
 "nbformat_minor": 2
}
