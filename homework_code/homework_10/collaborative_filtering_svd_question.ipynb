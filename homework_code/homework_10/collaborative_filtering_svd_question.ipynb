{
 "cells": [
  {
   "cell_type": "markdown",
   "id": "agreed-hunter",
   "metadata": {},
   "source": [
    "### Load movie information and user rating"
   ]
  },
  {
   "cell_type": "code",
   "execution_count": 2,
   "id": "formed-persian",
   "metadata": {},
   "outputs": [
    {
     "name": "stdout",
     "output_type": "stream",
     "text": [
      "Index(['movie_id', 'title', 'release_date', 'user_id', 'rating', 'timestamp'], dtype='object')\n",
      "   movie_id             title release_date  user_id  rating  timestamp\n",
      "0         1  Toy Story (1995)  01-Jan-1995      308       4  887736532\n",
      "1         1  Toy Story (1995)  01-Jan-1995      287       5  875334088\n",
      "2         1  Toy Story (1995)  01-Jan-1995      148       4  877019411\n",
      "Star Wars (1977)                    583\n",
      "Contact (1997)                      509\n",
      "Fargo (1996)                        508\n",
      "Return of the Jedi (1983)           507\n",
      "Liar Liar (1997)                    485\n",
      "English Patient, The (1996)         481\n",
      "Scream (1996)                       478\n",
      "Toy Story (1995)                    452\n",
      "Air Force One (1997)                431\n",
      "Independence Day (ID4) (1996)       429\n",
      "Raiders of the Lost Ark (1981)      420\n",
      "Godfather, The (1972)               413\n",
      "Pulp Fiction (1994)                 394\n",
      "Twelve Monkeys (1995)               392\n",
      "Silence of the Lambs, The (1991)    390\n",
      "Jerry Maguire (1996)                384\n",
      "Chasing Amy (1997)                  379\n",
      "Rock, The (1996)                    378\n",
      "Empire Strikes Back, The (1980)     367\n",
      "Star Trek: First Contact (1996)     365\n",
      "Name: title, dtype: int64\n",
      "405    737\n",
      "655    685\n",
      "13     636\n",
      "450    540\n",
      "276    518\n",
      "Name: user_id, dtype: int64\n",
      "4    34174\n",
      "3    27145\n",
      "5    21201\n",
      "2    11370\n",
      "1     6110\n",
      "Name: rating, dtype: int64\n"
     ]
    }
   ],
   "source": [
    "import pandas as pd\n",
    "import numpy as np\n",
    "import matplotlib.pyplot as plt\n",
    "np.random.seed(2022)\n",
    "\n",
    "font_size = 25\n",
    "font_size_ticks = 22\n",
    "\n",
    "rating_names = ['user_id', 'movie_id', 'rating', 'timestamp']\n",
    "ratings = pd.read_csv(r'/home/buzgalbraith/work/school/spring_2023/probaility-theroy-2-2023/homework_code/homework_10/ml-100k/u.data', sep='\\t', encoding='latin-1',names=rating_names)\n",
    "movie_names = ['movie_id', 'title', 'release_date']\n",
    "movies = pd.read_csv(r'/home/buzgalbraith/work/school/spring_2023/probaility-theroy-2-2023/homework_code/homework_10/ml-100k/u.item', sep='|', names=movie_names,usecols=range(3),\n",
    "                     encoding='latin-1')\n",
    "data = pd.merge(movies,ratings)\n",
    "print(data.columns)\n",
    "print(data.head(3))\n",
    "print(data.title.value_counts()[:20])\n",
    "print(data.user_id.value_counts()[:5])\n",
    "print(data.rating.value_counts())"
   ]
  },
  {
   "cell_type": "markdown",
   "id": "hungry-daily",
   "metadata": {},
   "source": [
    "### Transform the ratings of selected users and movies into a matrix, and center the ratings"
   ]
  },
  {
   "cell_type": "code",
   "execution_count": 3,
   "id": "increasing-basement",
   "metadata": {},
   "outputs": [
    {
     "name": "stdout",
     "output_type": "stream",
     "text": [
      "30055 observed ratings out of 100000\n",
      "[[5.         4.         5.         5.         5.        ]\n",
      " [3.80353635 2.         4.         4.         5.        ]\n",
      " [4.15551181 3.         5.         4.         5.        ]\n",
      " [5.         3.         5.         4.         5.        ]\n",
      " [3.15670103 3.         2.         4.         4.        ]]\n",
      "3.817224013722978\n"
     ]
    }
   ],
   "source": [
    "n_movies = 100\n",
    "n_users = 1000\n",
    "movies = data.title.value_counts()[:n_movies].index.tolist()\n",
    "users = np.array(data.user_id.value_counts()[:n_users].index.tolist())\n",
    "\n",
    "rating_matrix = np.zeros((n_movies,n_users))\n",
    "n_ratings = 0\n",
    "for ind,movie in enumerate(movies):\n",
    "    ratings = data[data[\"title\"] == movie]\n",
    "    rating_matrix[ind,:]= np.mean(ratings['rating']) # Impute mean rating for that movie for all missing ratings\n",
    "    for index, row in ratings.iterrows():\n",
    "        user_id = row['user_id']\n",
    "        if user_id in users:\n",
    "            rating_matrix[ind,np.where(users == user_id)]= row['rating']\n",
    "            # print(movie + \" user: \" + str(user_id) + \" rating: \" + str(row['rating']))\n",
    "            n_ratings += 1\n",
    "print(str(n_ratings) + \" observed ratings out of \" + str(n_movies*n_users))\n",
    "print(rating_matrix[:5,:5])\n",
    "mean_rating = np.mean(rating_matrix)\n",
    "print(mean_rating)\n",
    "centered_matrix = rating_matrix - mean_rating"
   ]
  },
  {
   "cell_type": "markdown",
   "id": "exterior-reunion",
   "metadata": {},
   "source": [
    "## (a) Preprocessing\n",
    "### Shuffle the nonzero ratings and split into train, validation, and test set\n",
    "Hint: np.flatnonzero() and np.flat() may be helpful to transform the rating matrix"
   ]
  },
  {
   "cell_type": "code",
   "execution_count": 6,
   "id": "controversial-volunteer",
   "metadata": {},
   "outputs": [],
   "source": [
    "n_test = 1000\n",
    "n_val = 1000\n",
    "n_train = n_ratings - n_test - n_val\n",
    "full_rating_matrix = np.zeros((n_movies,n_users))\n",
    "for ind,movie in enumerate(movies):\n",
    "    ratings = data[data[\"title\"] == movie]\n",
    "    for index, row in ratings.iterrows():\n",
    "        user_id = row['user_id']\n",
    "        if user_id in users:\n",
    "            full_rating_matrix[ind,np.where(users == user_id)]= row['rating']\n",
    "\n",
    "# Split train, val, test ratings from nonzero ratings\n",
    "nonmissing_indices = np.flatnonzero(full_rating_matrix > 0.1)\n",
    "aux_ind = nonmissing_indices[np.random.permutation(np.arange(len(nonmissing_indices)))]\n",
    "test_ind = aux_ind[:n_test]\n",
    "val_ind = aux_ind[n_test:(n_test+n_val)]\n",
    "train_ind = aux_ind[(n_test+n_val):(n_test+n_val+n_train)]\n",
    "\n",
    "train_ratings = full_rating_matrix.flat[train_ind]        \n",
    "val_ratings = full_rating_matrix.flat[val_ind]\n",
    "test_ratings = full_rating_matrix.flat[test_ind]"
   ]
  },
  {
   "cell_type": "markdown",
   "id": "developing-requirement",
   "metadata": {},
   "source": [
    "### Imputing missing ratings with the mean of each movie"
   ]
  },
  {
   "cell_type": "code",
   "execution_count": 8,
   "id": "experimental-scholarship",
   "metadata": {},
   "outputs": [
    {
     "name": "stdout",
     "output_type": "stream",
     "text": [
      "[[5.         4.         5.        ]\n",
      " [3.80543933 2.         4.        ]\n",
      " [4.1627907  3.         5.        ]]\n"
     ]
    }
   ],
   "source": [
    "# make imputed rating matrix (training data) as initialization\n",
    "rating_matrix_ini = np.zeros(full_rating_matrix.shape)\n",
    "rating_matrix_ini.flat[train_ind] = train_ratings\n",
    "mean_rating_movie = np.zeros(n_movies)\n",
    "\n",
    "# Impute mean rating of each movie to fill missing ratings\n",
    "for ind_movie in range(rating_matrix_ini.shape[0]):\n",
    "    # non_zero_index=np.nonzero(rating_matrix_ini[:,ind_movie])\n",
    "    # movie_mean = np.mean(rating_matrix[non_zero_index, ind_movie])\n",
    "    # rating_matrix_ini[ind_movie,rating_matrix_ini[ind_movie,:]==0] = movie_mean\n",
    "    mean_rating = rating_matrix_ini[ind_movie, np.nonzero(rating_matrix_ini[ind_movie])].mean()\n",
    "    rating_matrix_ini[ind_movie, np.argwhere(rating_matrix_ini[ind_movie]==0).flatten()] = mean_rating\n",
    "# show part of the matrix\n",
    "print(rating_matrix_ini[:3,:3])"
   ]
  },
  {
   "cell_type": "code",
   "execution_count": null,
   "id": "45e9d582",
   "metadata": {},
   "outputs": [
    {
     "data": {
      "text/plain": [
       "array([4., 3., 4., ..., 3., 1., 3.])"
      ]
     },
     "execution_count": 178,
     "metadata": {},
     "output_type": "execute_result"
    }
   ],
   "source": [
    "train_ratings"
   ]
  },
  {
   "cell_type": "markdown",
   "id": "completed-mobile",
   "metadata": {},
   "source": [
    "## (b) Low rank model\n",
    "### Implement an algorithm to fit the low rank model\n",
    "\n",
    "* Update the low rank estimation with ratings of training data in each iteration\n",
    "* Compute root mean square errors (RMSE) between low rank estimation and training ratings\n",
    "* Iterate the low-rank estimation until the loss converges to zeros"
   ]
  },
  {
   "cell_type": "code",
   "execution_count": 10,
   "id": "micro-armstrong",
   "metadata": {},
   "outputs": [
    {
     "name": "stdout",
     "output_type": "stream",
     "text": [
      "Iteration 0 Error: 0.6549908995952204\n",
      "Iteration 1 Error: 0.6549911269534475\n",
      "Iteration 2 Error: 0.6549911275005221\n",
      "Iteration 3 Error: 0.654991127501838\n",
      "Iteration 4 Error: 0.6549911275018413\n",
      "[[5.         4.         5.        ]\n",
      " [3.80543933 2.         4.        ]\n",
      " [4.1627907  3.         5.        ]]\n",
      "[[5.14199733 4.29148791 4.91634151]\n",
      " [3.36528609 2.07002213 3.40849063]\n",
      " [6.47619509 3.14284894 4.49061721]]\n"
     ]
    }
   ],
   "source": [
    "def fit_low_rank_model(rank,rating_matrix_ini,train_ind,train_data,n_iter,convergence_thresh,verbose):\n",
    "    \"\"\"Fit the low rank model. \n",
    "    Return the estimation of the low rank model - (n_movies * n_users) matrix\n",
    "\n",
    "    Keyword arguments:\n",
    "    rank -- the rank of low rank model\n",
    "    rating_matrix_ini -- imputed initialization\n",
    "    train_ind -- index of training data\n",
    "    train_data -- ratings of training set\n",
    "    n_iter -- the max number of iterations\n",
    "    convergence_thresh -- the threshold of convergence to 0\n",
    "    \"\"\"\n",
    "    previous_fitting_error = 100\n",
    "    centerd_data=rating_matrix_ini-np.mean(rating_matrix_ini)\n",
    "    u,s,v=np.linalg.svd(centerd_data)\n",
    "    low_rank_estimate =np.mean(rating_matrix_ini) + u[:, :rank] @ np.diag(s[:rank]) @ v[:rank, :]\n",
    "    \n",
    "    for ind in range(n_iter):\n",
    "        # Updates\n",
    "        # TODO\n",
    "        \n",
    "        # Compute error\n",
    "        fitting_error = np.sqrt( np.mean((low_rank_estimate.flat[train_ind]- train_data)**2) )\n",
    "        centerd_data=low_rank_estimate-np.mean(low_rank_estimate)\n",
    "        u,s,v=np.linalg.svd(centerd_data)\n",
    "        low_rank_estimate =np.mean(low_rank_estimate) + u[:, :rank] @ np.diag(s[:rank]) @ v[:rank, :]\n",
    "\n",
    "        if verbose:\n",
    "            print(\"Iteration \" + str(ind) + \" Error: \" + str(fitting_error))\n",
    "        \n",
    "        # Stopping criterion\n",
    "        #TODO\n",
    "        if(fitting_error <= convergence_thresh):\n",
    "            break\n",
    "    return low_rank_estimate\n",
    "\n",
    "n_iter = 5\n",
    "convergence_thresh = 1e-4\n",
    "verbose = True\n",
    "rank = 20\n",
    "estimate =fit_low_rank_model(rank,rating_matrix_ini,train_ind,train_ratings,n_iter,convergence_thresh,verbose)\n",
    "estimate[:3,:3]\n",
    "print(rating_matrix_ini[:3,:3])\n",
    "print(estimate[:3,:3])"
   ]
  },
  {
   "cell_type": "markdown",
   "id": "clear-stack",
   "metadata": {},
   "source": [
    "### Fit the low rank model with ranks from 1 to 10. Report and plot the training errors and validation errors."
   ]
  },
  {
   "cell_type": "code",
   "execution_count": 11,
   "id": "seventh-cooking",
   "metadata": {},
   "outputs": [
    {
     "name": "stdout",
     "output_type": "stream",
     "text": [
      "Rank 1\n",
      "Rank 2\n",
      "Rank 3\n",
      "Rank 4\n",
      "Rank 5\n",
      "Rank 6\n",
      "Rank 7\n",
      "Rank 8\n",
      "Rank 9\n"
     ]
    }
   ],
   "source": [
    "ranks = np.arange(1,10,1)\n",
    "train_error = np.zeros(len(ranks))\n",
    "val_error = np.zeros(len(ranks))\n",
    "\n",
    "n_iter = 500\n",
    "convergence_thresh = 1e-4\n",
    "verbose = False\n",
    "\n",
    "for ind,rank in enumerate(ranks):\n",
    "    print(\"Rank \" + str(rank))\n",
    "    estimate = fit_low_rank_model(rank,rating_matrix_ini,train_ind,train_ratings,n_iter,convergence_thresh,verbose)\n",
    "    train_error[ind] =np.sqrt(np.mean((estimate.flat[train_ind]- train_ratings)**2))\n",
    "    val_error[ind] = np.sqrt(np.mean((estimate.flat[val_ind]- val_ratings)**2))"
   ]
  },
  {
   "cell_type": "code",
   "execution_count": 12,
   "id": "solar-packaging",
   "metadata": {},
   "outputs": [
    {
     "name": "stdout",
     "output_type": "stream",
     "text": [
      "[0.94965786 0.90187328 0.89557084 0.89273514 0.88667284 0.88384464\n",
      " 0.88613393 0.88030803 0.88572836]\n",
      "[0.95669682 0.89817691 0.87318474 0.85547257 0.83701049 0.82082463\n",
      " 0.80767694 0.79393648 0.78171818]\n"
     ]
    },
    {
     "data": {
      "image/png": "[encoded data removed]",
      "text/plain": [
       "<Figure size 1200x900 with 1 Axes>"
      ]
     },
     "metadata": {},
     "output_type": "display_data"
    }
   ],
   "source": [
    "markersize = 10\n",
    "plt.figure(figsize=(12,9))\n",
    "plt.plot(ranks,train_error,linestyle=\"None\",marker='o',ms=markersize,color=\"black\",markeredgewidth=2,\n",
    "                     markerfacecolor=\"black\",label=\"Training error\")\n",
    "plt.plot(ranks,val_error,linestyle=\"None\",marker='o',ms=markersize,color=\"black\",markeredgewidth=2,\n",
    "                     markerfacecolor=\"white\",label=\"Validation error\")\n",
    "plt.ylabel('Root mean squared error',fontsize=font_size,labelpad=10)\n",
    "plt.xlabel('Rank',fontsize=font_size,labelpad=10)\n",
    "plt.xticks(fontsize=font_size_ticks) \n",
    "plt.yticks(fontsize=font_size_ticks)\n",
    "#plt.ylim([0,1.1])\n",
    "plt.legend(fontsize=font_size)\n",
    "print(val_error)\n",
    "print(train_error)\n",
    "plt.show()\n",
    "#plt.savefig('plots/collaborative_filtering_errors.pdf',bbox_inches=\"tight\")"
   ]
  },
  {
   "cell_type": "markdown",
   "id": "known-rough",
   "metadata": {},
   "source": [
    "## (c) Evaluation\n",
    "### What's the best rank (with least validation loss)? Report the test_error."
   ]
  },
  {
   "cell_type": "code",
   "execution_count": 13,
   "id": "popular-oregon",
   "metadata": {},
   "outputs": [
    {
     "name": "stdout",
     "output_type": "stream",
     "text": [
      "Error of low-rank estimate: 0.899\n"
     ]
    }
   ],
   "source": [
    "best_rank = 6\n",
    "estimate = fit_low_rank_model(best_rank,rating_matrix_ini,train_ind,train_ratings,n_iter,convergence_thresh,verbose)\n",
    "test_error = np.sqrt(np.mean((estimate.flat[test_ind]- test_ratings)**2))\n",
    "\n",
    "print(\"Error of low-rank estimate: \" + str(np.round(test_error,3)))"
   ]
  },
  {
   "cell_type": "markdown",
   "id": "through-navigator",
   "metadata": {},
   "source": [
    "### If we estimate rating of each moive with the mean of its ratings (on training data), what's the test error? Compare with low rank model."
   ]
  },
  {
   "cell_type": "code",
   "execution_count": 14,
   "id": "stock-karen",
   "metadata": {},
   "outputs": [
    {
     "name": "stdout",
     "output_type": "stream",
     "text": [
      "Error of mean-movie estimate: 0.977\n"
     ]
    }
   ],
   "source": [
    "mean_rating_estimate = rating_matrix_ini\n",
    "error_mean_rating =  np.sqrt(np.mean((mean_rating_estimate.flat[test_ind]- test_ratings)**2))\n",
    "print(\"Error of mean-movie estimate: \" + str(np.round(error_mean_rating,3)))"
   ]
  },
  {
   "cell_type": "markdown",
   "id": "molecular-paint",
   "metadata": {},
   "source": [
    "## (d) Analysis\n",
    "### Report top factors of the best low rank model estimate. What are 3 movies with highest and lowest magnitudes in each factor?\n"
   ]
  },
  {
   "cell_type": "code",
   "execution_count": 15,
   "id": "closing-bosnia",
   "metadata": {},
   "outputs": [],
   "source": [
    "u,s,v=np.linalg.svd(estimate)\n",
    "top_3_factors=s[:3]\n",
    "top_3=np.argsort(u[:,1])[:3]\n",
    "bottom_3=np.argsort(u[:,1])[-3:]\n",
    "def get_top_and_bottom_movies_for_factor(estimate, factor_number):\n",
    "    u,s,v=np.linalg.svd(estimate)\n",
    "    top_3_factors=s[factor_number]\n",
    "    print(\"for factor {0}\\nthe top 3 movies are \".format(factor_number))\n",
    "    top_3=np.argsort(u[:,factor_number])[:3]\n",
    "    bottom_3=np.argsort(u[:,factor_number])[-3:]\n",
    "    movies_1=np.array(movies)\n",
    "    print(movies_1[top_3])\n",
    "    print(\"bottom 3 movies are \")\n",
    "    print(movies_1[bottom_3])\n",
    "    "
   ]
  },
  {
   "cell_type": "code",
   "execution_count": 16,
   "id": "proprietary-library",
   "metadata": {},
   "outputs": [
    {
     "name": "stdout",
     "output_type": "stream",
     "text": [
      "for factor 0\n",
      "the top 3 movies are \n",
      "[\"Schindler's List (1993)\" 'Shawshank Redemption, The (1994)'\n",
      " 'Casablanca (1942)']\n",
      "bottom 3 movies are \n",
      "['Evita (1996)' \"Dante's Peak (1997)\" 'Volcano (1997)']\n"
     ]
    }
   ],
   "source": [
    "get_top_and_bottom_movies_for_factor(estimate, 0)"
   ]
  },
  {
   "cell_type": "code",
   "execution_count": 27,
   "id": "d95fc6ab",
   "metadata": {},
   "outputs": [
    {
     "name": "stdout",
     "output_type": "stream",
     "text": [
      "[[nan nan  2.  0.]\n",
      " [ 2.  2.  3. nan]\n",
      " [ 2.  3.  4. -2.]\n",
      " [ 2.  4. nan -3.]]\n"
     ]
    }
   ],
   "source": [
    "import numpy as np\n",
    "import cvxpy as cp\n",
    "\n",
    "# Define the given matrix M and the matrix O with known and unknown entries\n",
    "M = np.array([[np.nan, np.nan, 2, 0],\n",
    "              [2, 2, 3, np.nan],\n",
    "              [2, 3, 4, -2],\n",
    "              [2, 4, np.nan, -3]])\n",
    "print(M)\n"
   ]
  },
  {
   "cell_type": "code",
   "execution_count": 31,
   "id": "3f438855",
   "metadata": {},
   "outputs": [
    {
     "name": "stdout",
     "output_type": "stream",
     "text": [
      "1.5833333333333333\n",
      "[6.83544573 2.32414224 0.88036646 0.1290975 ]\n"
     ]
    }
   ],
   "source": [
    "\n",
    "M_prime=(M-np.nanmean(M)).copy()\n",
    "print(np.nanmean(M))\n",
    "M_prime[np.isnan(M_prime)]=0\n",
    "u,s,v=np.linalg.svd(M_prime)\n",
    "print(s)"
   ]
  },
  {
   "cell_type": "code",
   "execution_count": 35,
   "id": "be954498",
   "metadata": {},
   "outputs": [
    {
     "name": "stdout",
     "output_type": "stream",
     "text": [
      "[[ 1.81053551  2.27112884  2.06077989  0.36641163]\n",
      " [ 1.72804747  1.90203502  1.82257643  1.18253462]\n",
      " [ 2.06451703  3.40757241  2.79421076 -2.1464392 ]\n",
      " [ 2.12258981  3.66741983  2.96190946 -2.72100166]]\n"
     ]
    },
    {
     "data": {
      "text/plain": [
       "2"
      ]
     },
     "execution_count": 35,
     "metadata": {},
     "output_type": "execute_result"
    }
   ],
   "source": [
    "a=np.nanmean(M)+s[0]*(u[:,0].reshape(-1,1) @ v[0,:].reshape(-1,1).T)\n",
    "print(a)\n",
    "np.linalg.matrix_rank(a)"
   ]
  },
  {
   "cell_type": "code",
   "execution_count": 36,
   "id": "4fe37f16",
   "metadata": {},
   "outputs": [
    {
     "name": "stdout",
     "output_type": "stream",
     "text": [
      "[[ 1.71589676  2.17649009  2.          0.        ]\n",
      " [ 2.          2.          3.          1.08789586]\n",
      " [ 2.          3.          4.         -2.        ]\n",
      " [ 2.          4.          2.86727071 -3.        ]]\n"
     ]
    },
    {
     "data": {
      "text/plain": [
       "4"
      ]
     },
     "execution_count": 36,
     "metadata": {},
     "output_type": "execute_result"
    }
   ],
   "source": [
    "M[np.isnan(M)]=a[np.isnan(M)]\n",
    "print(M)\n",
    "np.linalg.matrix_rank(M)"
   ]
  },
  {
   "cell_type": "code",
   "execution_count": 46,
   "id": "300791dd",
   "metadata": {},
   "outputs": [
    {
     "ename": "AttributeError",
     "evalue": "'numpy.ndarray' object has no attribute 'n_users'",
     "output_type": "error",
     "traceback": [
      "\u001b[0;31m---------------------------------------------------------------------------\u001b[0m",
      "\u001b[0;31mAttributeError\u001b[0m                            Traceback (most recent call last)",
      "Cell \u001b[0;32mIn[46], line 13\u001b[0m\n\u001b[1;32m      6\u001b[0m \u001b[39m# Load the dataset with missing values\u001b[39;00m\n\u001b[1;32m      7\u001b[0m \u001b[39m# df = pd.read_csv('matrix.csv')\u001b[39;00m\n\u001b[1;32m      8\u001b[0m \n\u001b[1;32m      9\u001b[0m \u001b[39m# Set up the reader and load the data into a Surprise dataset\u001b[39;00m\n\u001b[1;32m     10\u001b[0m \n\u001b[1;32m     11\u001b[0m \u001b[39m# Set up and fit the SVD algorithm\u001b[39;00m\n\u001b[1;32m     12\u001b[0m algo \u001b[39m=\u001b[39m SVD()\n\u001b[0;32m---> 13\u001b[0m algo\u001b[39m.\u001b[39;49mfit(M)\n",
      "File \u001b[0;32m~/miniconda3/envs/prob_stats_2/lib/python3.10/site-packages/surprise/prediction_algorithms/matrix_factorization.pyx:155\u001b[0m, in \u001b[0;36msurprise.prediction_algorithms.matrix_factorization.SVD.fit\u001b[0;34m()\u001b[0m\n",
      "File \u001b[0;32m~/miniconda3/envs/prob_stats_2/lib/python3.10/site-packages/surprise/prediction_algorithms/matrix_factorization.pyx:196\u001b[0m, in \u001b[0;36msurprise.prediction_algorithms.matrix_factorization.SVD.sgd\u001b[0;34m()\u001b[0m\n",
      "\u001b[0;31mAttributeError\u001b[0m: 'numpy.ndarray' object has no attribute 'n_users'"
     ]
    }
   ],
   "source": [
    "from surprise import Dataset\n",
    "from surprise import SVD\n",
    "from surprise import Reader\n",
    "import pandas as pd\n",
    "\n",
    "# Load the dataset with missing values\n",
    "# df = pd.read_csv('matrix.csv')\n",
    "\n",
    "# Set up the reader and load the data into a Surprise dataset\n",
    "\n",
    "# Set up and fit the SVD algorithm\n",
    "algo = SVD()\n",
    "algo.fit(M)\n",
    "\n"
   ]
  }
 ],
 "metadata": {
  "kernelspec": {
   "display_name": "Python 3",
   "language": "python",
   "name": "python3"
  },
  "language_info": {
   "codemirror_mode": {
    "name": "ipython",
    "version": 3
   },
   "file_extension": ".py",
   "mimetype": "text/x-python",
   "name": "python",
   "nbconvert_exporter": "python",
   "pygments_lexer": "ipython3",
   "version": "3.10.9"
  }
 },
 "nbformat": 4,
 "nbformat_minor": 5
}
