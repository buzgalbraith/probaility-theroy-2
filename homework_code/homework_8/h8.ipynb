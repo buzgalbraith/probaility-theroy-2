{
 "cells": [
  {
   "cell_type": "code",
   "execution_count": 2,
   "metadata": {},
   "outputs": [],
   "source": [
    "import numpy as np\n",
    "import scipy.stats as stats\n",
    "import scipy as sp \n",
    "import matplotlib.pyplot as plt"
   ]
  },
  {
   "cell_type": "code",
   "execution_count": 3,
   "metadata": {},
   "outputs": [
    {
     "name": "stdout",
     "output_type": "stream",
     "text": [
      "[[ 1.          0.          0.        ]\n",
      " [ 0.          0.70710678  0.70710678]\n",
      " [ 0.          0.70710678 -0.70710678]] \n",
      " [[1.  0.  0. ]\n",
      " [0.  0.5 0. ]\n",
      " [0.  0.  0. ]]\n",
      "[[1.   0.   0.  ]\n",
      " [0.   0.25 0.25]\n",
      " [0.   0.25 0.25]]\n"
     ]
    }
   ],
   "source": [
    "p=np.zeros([3,3])\n",
    "p[0,0]=1\n",
    "p[1,1]=1/np.sqrt(2)\n",
    "p[1,2]=1/np.sqrt(2)\n",
    "p[2,1]=1/np.sqrt(2)\n",
    "p[2,2]=-1/np.sqrt(2)\n",
    "eigen_matirx=np.zeros([3,3])\n",
    "eigen_matirx[0,0]=1\n",
    "eigen_matirx[1,1]=1/2\n",
    "print(p,\"\\n\", eigen_matirx)\n",
    "covariance_matrix=p@eigen_matirx@np.linalg.inv(p)\n",
    "print(covariance_matrix)\n",
    "\n",
    "## so only psd"
   ]
  },
  {
   "cell_type": "code",
   "execution_count": 4,
   "metadata": {},
   "outputs": [
    {
     "name": "stdout",
     "output_type": "stream",
     "text": [
      "[[ True  True  True]\n",
      " [ True  True  True]\n",
      " [ True  True  True]]\n"
     ]
    }
   ],
   "source": [
    "print(covariance_matrix==covariance_matrix.T)"
   ]
  },
  {
   "cell_type": "code",
   "execution_count": 5,
   "metadata": {},
   "outputs": [
    {
     "name": "stdout",
     "output_type": "stream",
     "text": [
      "  message: Desired error not necessarily achieved due to precision loss.\n",
      "  success: False\n",
      "   status: 2\n",
      "      fun: -721588.2437057205\n",
      "        x: [-6.995e+02  2.757e+02  2.757e+02  1.607e+03]\n",
      "      nit: 2\n",
      "      jac: [ 4.656e+00 -2.776e+02 -2.776e+02 -8.008e+02]\n",
      " hess_inv: [[ 5.387e-01 -1.058e-01 -1.058e-01  9.508e-01]\n",
      "            [-1.058e-01  5.723e-01 -4.277e-01 -3.946e-01]\n",
      "            [-1.058e-01 -4.277e-01  5.723e-01 -3.946e-01]\n",
      "            [ 9.508e-01 -3.946e-01 -3.946e-01 -1.728e+00]]\n",
      "     nfev: 577\n",
      "     njev: 113\n"
     ]
    }
   ],
   "source": [
    "def legrangian_to_max(a):\n",
    "    a_1, a_2, a_3, shadow = a\n",
    "    return a_1**2 + 0.25*(a_2**2 + a_3**2) + 0.5*a_2*a_3 - shadow*(np.linalg.norm([a_1,a_2,a_3]))\n",
    "\n",
    "legrangian_to_min = lambda x: -1*legrangian_to_max(x)\n",
    "\n",
    "\n",
    "result = sp.optimize.minimize(legrangian_to_max, x0=[.5,.5,.5,1])\n",
    "\n",
    "print(result)\n"
   ]
  },
  {
   "cell_type": "code",
   "execution_count": 6,
   "metadata": {},
   "outputs": [
    {
     "ename": "ValueError",
     "evalue": "too many values to unpack (expected 3)",
     "output_type": "error",
     "traceback": [
      "\u001b[0;31m---------------------------------------------------------------------------\u001b[0m",
      "\u001b[0;31mValueError\u001b[0m                                Traceback (most recent call last)",
      "Cell \u001b[0;32mIn[6], line 12\u001b[0m\n\u001b[1;32m      8\u001b[0m min_funct \u001b[39m=\u001b[39m \u001b[39mlambda\u001b[39;00m x: objective(x)\n\u001b[1;32m     10\u001b[0m constraints \u001b[39m=\u001b[39m [{\u001b[39m'\u001b[39m\u001b[39mtype\u001b[39m\u001b[39m'\u001b[39m: \u001b[39m'\u001b[39m\u001b[39meq\u001b[39m\u001b[39m'\u001b[39m, \u001b[39m'\u001b[39m\u001b[39mfun\u001b[39m\u001b[39m'\u001b[39m: \u001b[39mlambda\u001b[39;00m x: np\u001b[39m.\u001b[39msqrt(x[\u001b[39m0\u001b[39m]\u001b[39m*\u001b[39m\u001b[39m*\u001b[39m\u001b[39m2\u001b[39m \u001b[39m+\u001b[39m x[\u001b[39m1\u001b[39m]\u001b[39m*\u001b[39m\u001b[39m*\u001b[39m\u001b[39m2\u001b[39m \u001b[39m+\u001b[39m x[\u001b[39m2\u001b[39m]\u001b[39m*\u001b[39m\u001b[39m*\u001b[39m\u001b[39m2\u001b[39m) \u001b[39m-\u001b[39m \u001b[39m1\u001b[39m}]\n\u001b[0;32m---> 12\u001b[0m result \u001b[39m=\u001b[39m sp\u001b[39m.\u001b[39;49moptimize\u001b[39m.\u001b[39;49mminimize(lagrangian, x0\u001b[39m=\u001b[39;49m[\u001b[39m1\u001b[39;49m, \u001b[39m1\u001b[39;49m, \u001b[39m1\u001b[39;49m, \u001b[39m1\u001b[39;49m], args\u001b[39m=\u001b[39;49m(\u001b[39m2\u001b[39;49m,), constraints\u001b[39m=\u001b[39;49mconstraints)\n\u001b[1;32m     14\u001b[0m \u001b[39mprint\u001b[39m(result)\n",
      "File \u001b[0;32m~/miniconda3/envs/prob_stats_2/lib/python3.10/site-packages/scipy/optimize/_minimize.py:705\u001b[0m, in \u001b[0;36mminimize\u001b[0;34m(fun, x0, args, method, jac, hess, hessp, bounds, constraints, tol, callback, options)\u001b[0m\n\u001b[1;32m    702\u001b[0m     res \u001b[39m=\u001b[39m _minimize_cobyla(fun, x0, args, constraints, callback\u001b[39m=\u001b[39mcallback,\n\u001b[1;32m    703\u001b[0m                             \u001b[39m*\u001b[39m\u001b[39m*\u001b[39moptions)\n\u001b[1;32m    704\u001b[0m \u001b[39melif\u001b[39;00m meth \u001b[39m==\u001b[39m \u001b[39m'\u001b[39m\u001b[39mslsqp\u001b[39m\u001b[39m'\u001b[39m:\n\u001b[0;32m--> 705\u001b[0m     res \u001b[39m=\u001b[39m _minimize_slsqp(fun, x0, args, jac, bounds,\n\u001b[1;32m    706\u001b[0m                           constraints, callback\u001b[39m=\u001b[39;49mcallback, \u001b[39m*\u001b[39;49m\u001b[39m*\u001b[39;49moptions)\n\u001b[1;32m    707\u001b[0m \u001b[39melif\u001b[39;00m meth \u001b[39m==\u001b[39m \u001b[39m'\u001b[39m\u001b[39mtrust-constr\u001b[39m\u001b[39m'\u001b[39m:\n\u001b[1;32m    708\u001b[0m     res \u001b[39m=\u001b[39m _minimize_trustregion_constr(fun, x0, args, jac, hess, hessp,\n\u001b[1;32m    709\u001b[0m                                        bounds, constraints,\n\u001b[1;32m    710\u001b[0m                                        callback\u001b[39m=\u001b[39mcallback, \u001b[39m*\u001b[39m\u001b[39m*\u001b[39moptions)\n",
      "File \u001b[0;32m~/miniconda3/envs/prob_stats_2/lib/python3.10/site-packages/scipy/optimize/_slsqp_py.py:374\u001b[0m, in \u001b[0;36m_minimize_slsqp\u001b[0;34m(func, x0, args, jac, bounds, constraints, maxiter, ftol, iprint, disp, eps, callback, finite_diff_rel_step, **unknown_options)\u001b[0m\n\u001b[1;32m    371\u001b[0m     xu[infbnd[:, \u001b[39m1\u001b[39m]] \u001b[39m=\u001b[39m np\u001b[39m.\u001b[39mnan\n\u001b[1;32m    373\u001b[0m \u001b[39m# ScalarFunction provides function and gradient evaluation\u001b[39;00m\n\u001b[0;32m--> 374\u001b[0m sf \u001b[39m=\u001b[39m _prepare_scalar_function(func, x, jac\u001b[39m=\u001b[39;49mjac, args\u001b[39m=\u001b[39;49margs, epsilon\u001b[39m=\u001b[39;49meps,\n\u001b[1;32m    375\u001b[0m                               finite_diff_rel_step\u001b[39m=\u001b[39;49mfinite_diff_rel_step,\n\u001b[1;32m    376\u001b[0m                               bounds\u001b[39m=\u001b[39;49mnew_bounds)\n\u001b[1;32m    377\u001b[0m \u001b[39m# gh11403 SLSQP sometimes exceeds bounds by 1 or 2 ULP, make sure this\u001b[39;00m\n\u001b[1;32m    378\u001b[0m \u001b[39m# doesn't get sent to the func/grad evaluator.\u001b[39;00m\n\u001b[1;32m    379\u001b[0m wrapped_fun \u001b[39m=\u001b[39m _clip_x_for_func(sf\u001b[39m.\u001b[39mfun, new_bounds)\n",
      "File \u001b[0;32m~/miniconda3/envs/prob_stats_2/lib/python3.10/site-packages/scipy/optimize/_optimize.py:332\u001b[0m, in \u001b[0;36m_prepare_scalar_function\u001b[0;34m(fun, x0, jac, args, bounds, epsilon, finite_diff_rel_step, hess)\u001b[0m\n\u001b[1;32m    328\u001b[0m     bounds \u001b[39m=\u001b[39m (\u001b[39m-\u001b[39mnp\u001b[39m.\u001b[39minf, np\u001b[39m.\u001b[39minf)\n\u001b[1;32m    330\u001b[0m \u001b[39m# ScalarFunction caches. Reuse of fun(x) during grad\u001b[39;00m\n\u001b[1;32m    331\u001b[0m \u001b[39m# calculation reduces overall function evaluations.\u001b[39;00m\n\u001b[0;32m--> 332\u001b[0m sf \u001b[39m=\u001b[39m ScalarFunction(fun, x0, args, grad, hess,\n\u001b[1;32m    333\u001b[0m                     finite_diff_rel_step, bounds, epsilon\u001b[39m=\u001b[39;49mepsilon)\n\u001b[1;32m    335\u001b[0m \u001b[39mreturn\u001b[39;00m sf\n",
      "File \u001b[0;32m~/miniconda3/envs/prob_stats_2/lib/python3.10/site-packages/scipy/optimize/_differentiable_functions.py:158\u001b[0m, in \u001b[0;36mScalarFunction.__init__\u001b[0;34m(self, fun, x0, args, grad, hess, finite_diff_rel_step, finite_diff_bounds, epsilon)\u001b[0m\n\u001b[1;32m    155\u001b[0m     \u001b[39mself\u001b[39m\u001b[39m.\u001b[39mf \u001b[39m=\u001b[39m fun_wrapped(\u001b[39mself\u001b[39m\u001b[39m.\u001b[39mx)\n\u001b[1;32m    157\u001b[0m \u001b[39mself\u001b[39m\u001b[39m.\u001b[39m_update_fun_impl \u001b[39m=\u001b[39m update_fun\n\u001b[0;32m--> 158\u001b[0m \u001b[39mself\u001b[39;49m\u001b[39m.\u001b[39;49m_update_fun()\n\u001b[1;32m    160\u001b[0m \u001b[39m# Gradient evaluation\u001b[39;00m\n\u001b[1;32m    161\u001b[0m \u001b[39mif\u001b[39;00m callable(grad):\n",
      "File \u001b[0;32m~/miniconda3/envs/prob_stats_2/lib/python3.10/site-packages/scipy/optimize/_differentiable_functions.py:251\u001b[0m, in \u001b[0;36mScalarFunction._update_fun\u001b[0;34m(self)\u001b[0m\n\u001b[1;32m    249\u001b[0m \u001b[39mdef\u001b[39;00m \u001b[39m_update_fun\u001b[39m(\u001b[39mself\u001b[39m):\n\u001b[1;32m    250\u001b[0m     \u001b[39mif\u001b[39;00m \u001b[39mnot\u001b[39;00m \u001b[39mself\u001b[39m\u001b[39m.\u001b[39mf_updated:\n\u001b[0;32m--> 251\u001b[0m         \u001b[39mself\u001b[39;49m\u001b[39m.\u001b[39;49m_update_fun_impl()\n\u001b[1;32m    252\u001b[0m         \u001b[39mself\u001b[39m\u001b[39m.\u001b[39mf_updated \u001b[39m=\u001b[39m \u001b[39mTrue\u001b[39;00m\n",
      "File \u001b[0;32m~/miniconda3/envs/prob_stats_2/lib/python3.10/site-packages/scipy/optimize/_differentiable_functions.py:155\u001b[0m, in \u001b[0;36mScalarFunction.__init__.<locals>.update_fun\u001b[0;34m()\u001b[0m\n\u001b[1;32m    154\u001b[0m \u001b[39mdef\u001b[39;00m \u001b[39mupdate_fun\u001b[39m():\n\u001b[0;32m--> 155\u001b[0m     \u001b[39mself\u001b[39m\u001b[39m.\u001b[39mf \u001b[39m=\u001b[39m fun_wrapped(\u001b[39mself\u001b[39;49m\u001b[39m.\u001b[39;49mx)\n",
      "File \u001b[0;32m~/miniconda3/envs/prob_stats_2/lib/python3.10/site-packages/scipy/optimize/_differentiable_functions.py:137\u001b[0m, in \u001b[0;36mScalarFunction.__init__.<locals>.fun_wrapped\u001b[0;34m(x)\u001b[0m\n\u001b[1;32m    133\u001b[0m \u001b[39mself\u001b[39m\u001b[39m.\u001b[39mnfev \u001b[39m+\u001b[39m\u001b[39m=\u001b[39m \u001b[39m1\u001b[39m\n\u001b[1;32m    134\u001b[0m \u001b[39m# Send a copy because the user may overwrite it.\u001b[39;00m\n\u001b[1;32m    135\u001b[0m \u001b[39m# Overwriting results in undefined behaviour because\u001b[39;00m\n\u001b[1;32m    136\u001b[0m \u001b[39m# fun(self.x) will change self.x, with the two no longer linked.\u001b[39;00m\n\u001b[0;32m--> 137\u001b[0m fx \u001b[39m=\u001b[39m fun(np\u001b[39m.\u001b[39;49mcopy(x), \u001b[39m*\u001b[39;49margs)\n\u001b[1;32m    138\u001b[0m \u001b[39m# Make sure the function returns a true scalar\u001b[39;00m\n\u001b[1;32m    139\u001b[0m \u001b[39mif\u001b[39;00m \u001b[39mnot\u001b[39;00m np\u001b[39m.\u001b[39misscalar(fx):\n",
      "Cell \u001b[0;32mIn[6], line 6\u001b[0m, in \u001b[0;36mlagrangian\u001b[0;34m(a, shadow)\u001b[0m\n\u001b[1;32m      5\u001b[0m \u001b[39mdef\u001b[39;00m \u001b[39mlagrangian\u001b[39m(a, shadow):\n\u001b[0;32m----> 6\u001b[0m     \u001b[39mreturn\u001b[39;00m objective(a) \u001b[39m-\u001b[39m shadow\u001b[39m*\u001b[39m(np\u001b[39m.\u001b[39msqrt(a[\u001b[39m0\u001b[39m]\u001b[39m*\u001b[39m\u001b[39m*\u001b[39m\u001b[39m2\u001b[39m \u001b[39m+\u001b[39m a[\u001b[39m1\u001b[39m]\u001b[39m*\u001b[39m\u001b[39m*\u001b[39m\u001b[39m2\u001b[39m \u001b[39m+\u001b[39m a[\u001b[39m2\u001b[39m]\u001b[39m*\u001b[39m\u001b[39m*\u001b[39m\u001b[39m2\u001b[39m) \u001b[39m-\u001b[39m \u001b[39m1\u001b[39m)\n",
      "Cell \u001b[0;32mIn[6], line 2\u001b[0m, in \u001b[0;36mobjective\u001b[0;34m(a)\u001b[0m\n\u001b[1;32m      1\u001b[0m \u001b[39mdef\u001b[39;00m \u001b[39mobjective\u001b[39m(a):\n\u001b[0;32m----> 2\u001b[0m     a_1, a_2, a_3 \u001b[39m=\u001b[39m a\n\u001b[1;32m      3\u001b[0m     \u001b[39mreturn\u001b[39;00m a_1\u001b[39m*\u001b[39m\u001b[39m*\u001b[39m\u001b[39m2\u001b[39m \u001b[39m+\u001b[39m \u001b[39m0.25\u001b[39m\u001b[39m*\u001b[39m(a_2\u001b[39m*\u001b[39m\u001b[39m*\u001b[39m\u001b[39m2\u001b[39m \u001b[39m+\u001b[39m a_3\u001b[39m*\u001b[39m\u001b[39m*\u001b[39m\u001b[39m2\u001b[39m) \u001b[39m+\u001b[39m \u001b[39m0.5\u001b[39m\u001b[39m*\u001b[39ma_2\u001b[39m*\u001b[39ma_3\n",
      "\u001b[0;31mValueError\u001b[0m: too many values to unpack (expected 3)"
     ]
    }
   ],
   "source": [
    "\n",
    "def objective(a):\n",
    "    a_1, a_2, a_3 = a\n",
    "    return a_1**2 + 0.25*(a_2**2 + a_3**2) + 0.5*a_2*a_3 \n",
    "\n",
    "def lagrangian(a, shadow):\n",
    "    return objective(a) - shadow*(np.sqrt(a[0]**2 + a[1]**2 + a[2]**2) - 1)\n",
    "\n",
    "min_funct = lambda x: objective(x)\n",
    "\n",
    "constraints = [{'type': 'eq', 'fun': lambda x: np.sqrt(x[0]**2 + x[1]**2 + x[2]**2) - 1}]\n",
    "\n",
    "result = sp.optimize.minimize(lagrangian, x0=[1, 1, 1, 1], args=(2,), constraints=constraints)\n",
    "\n",
    "print(result)"
   ]
  },
  {
   "cell_type": "code",
   "execution_count": 7,
   "metadata": {},
   "outputs": [
    {
     "name": "stdout",
     "output_type": "stream",
     "text": [
      "0.4999999999999999\n"
     ]
    },
    {
     "data": {
      "text/plain": [
       "0.0"
      ]
     },
     "execution_count": 7,
     "metadata": {},
     "output_type": "execute_result"
    }
   ],
   "source": [
    "a=[0,(1/np.sqrt(2)),(1/np.sqrt(2))]\n",
    "def objective(a):\n",
    "    a_1, a_2, a_3 = a\n",
    "    return a_1**2 + 0.25*(a_2**2 + a_3**2) + 0.5*a_2*a_3 \n",
    "objective(a) ##.5 \n",
    "a=[1,0,0]\n",
    "objective(a) ##!1\n",
    "a=[0,1/np.sqrt(2),1/np.sqrt(2)] ##.66 \n",
    "print(objective(a) )\n",
    "a=[0,1/np.sqrt(2),-1/np.sqrt(2)] ##.66 \n",
    "objective(a) "
   ]
  },
  {
   "cell_type": "code",
   "execution_count": 8,
   "metadata": {},
   "outputs": [
    {
     "data": {
      "text/plain": [
       "array([0., 0., 0.])"
      ]
     },
     "execution_count": 8,
     "metadata": {},
     "output_type": "execute_result"
    }
   ],
   "source": [
    "covariance_matrix\n",
    "a=np.array([0,-1,1])\n",
    "np.dot(covariance_matrix,a)"
   ]
  },
  {
   "cell_type": "code",
   "execution_count": 9,
   "metadata": {},
   "outputs": [
    {
     "data": {
      "text/plain": [
       "array([[100., -80.,  10.],\n",
       "       [-80.,  81.,  50.],\n",
       "       [ 10.,  50., 100.]])"
      ]
     },
     "execution_count": 9,
     "metadata": {},
     "output_type": "execute_result"
    }
   ],
   "source": [
    "covariance_matrix=np.zeros([3,3])\n",
    "covariance_matrix[0,:]=[100,-80,10]\n",
    "covariance_matrix[1,:]=[-80,81,50]\n",
    "covariance_matrix[2,:]=[10,50,100]\n",
    "covariance_matrix"
   ]
  },
  {
   "cell_type": "code",
   "execution_count": 10,
   "metadata": {},
   "outputs": [
    {
     "name": "stdout",
     "output_type": "stream",
     "text": [
      "21.0\n",
      "220.0\n",
      "281.0\n"
     ]
    }
   ],
   "source": [
    "def find_variance(a, covariance_matrix):\n",
    "    return np.dot(a,covariance_matrix)@a\n",
    "a=np.array([1,1,0])\n",
    "print(find_variance(a,covariance_matrix))\n",
    "a=np.array([1,0,1])\n",
    "print(find_variance(a,covariance_matrix))\n",
    "a=np.array([0,1,1])\n",
    "print(find_variance(a,covariance_matrix))"
   ]
  },
  {
   "cell_type": "code",
   "execution_count": 11,
   "metadata": {},
   "outputs": [
    {
     "data": {
      "image/png": "[encoded data removed]",
      "text/plain": [
       "<Figure size 640x480 with 1 Axes>"
      ]
     },
     "metadata": {},
     "output_type": "display_data"
    },
    {
     "data": {
      "text/plain": [
       "(array([[  13.,   78.,  517., 1537., 2795., 2779., 1634.,  532.,  107.,\n",
       "            8.],\n",
       "        [  11.,   84.,  504., 1548., 2799., 2749., 1664.,  531.,  101.,\n",
       "            9.]]),\n",
       " array([-1.36123592e+02, -1.08912824e+02, -8.17020554e+01, -5.44912872e+01,\n",
       "        -2.72805189e+01, -6.97506150e-02,  2.71410177e+01,  5.43517859e+01,\n",
       "         8.15625542e+01,  1.08773322e+02,  1.35984091e+02]),\n",
       " <a list of 2 BarContainer objects>)"
      ]
     },
     "execution_count": 11,
     "metadata": {},
     "output_type": "execute_result"
    },
    {
     "data": {
      "image/png": "[encoded data removed]",
      "text/plain": [
       "<Figure size 640x480 with 1 Axes>"
      ]
     },
     "metadata": {},
     "output_type": "display_data"
    }
   ],
   "source": [
    "sigma_signal=50\n",
    "sigma_noise=np.identity(2)*1\n",
    "x=stats.norm(loc=0, scale=sigma_signal)\n",
    "z=stats.multivariate_normal(mean=[0,0],cov=sigma_noise)\n",
    "v=np.array([1/np.sqrt(2),1/np.sqrt(2)])\n",
    "def y(n):\n",
    "    ellement_wise_multiply = lambda v,n: np.array([v*x_i for x_i in x.rvs(n)])\n",
    "    return ellement_wise_multiply(v,n)+z.rvs(size=n)\n",
    "samples=y(10000)\n",
    "plt.scatter(samples[:,0],samples[:,1])\n",
    "plt.show()\n",
    "plt.hist(samples)\n"
   ]
  },
  {
   "cell_type": "code",
   "execution_count": 19,
   "metadata": {},
   "outputs": [
    {
     "data": {
      "image/png": "[encoded data removed]",
      "text/plain": [
       "<Figure size 640x480 with 1 Axes>"
      ]
     },
     "metadata": {},
     "output_type": "display_data"
    },
    {
     "data": {
      "text/plain": [
       "(array([[  11.,   75.,  407., 1419., 2591., 2913., 1739.,  678.,  146.,\n",
       "           21.],\n",
       "        [   5.,   85.,  443., 1308., 2616., 2823., 1875.,  682.,  149.,\n",
       "           14.]]),\n",
       " array([-27.69412028, -22.33911474, -16.9841092 , -11.62910365,\n",
       "         -6.27409811,  -0.91909257,   4.43591297,   9.79091851,\n",
       "         15.14592405,  20.50092959,  25.85593513]),\n",
       " <a list of 2 BarContainer objects>)"
      ]
     },
     "execution_count": 19,
     "metadata": {},
     "output_type": "execute_result"
    },
    {
     "data": {
      "image/png": "[encoded data removed]",
      "text/plain": [
       "<Figure size 640x480 with 1 Axes>"
      ]
     },
     "metadata": {},
     "output_type": "display_data"
    }
   ],
   "source": [
    "sigma_signal=1\n",
    "sigma_noise=np.identity(2)*50\n",
    "x=stats.norm(loc=0, scale=sigma_signal)\n",
    "z=stats.multivariate_normal(mean=[0,0],cov=sigma_noise)\n",
    "v=np.array([1/np.sqrt(2),1/np.sqrt(2)])\n",
    "def y(n):\n",
    "    ellement_wise_multiply = lambda v,n: np.array([v*x_i for x_i in x.rvs(n)])\n",
    "    return ellement_wise_multiply(v,n)+z.rvs(size=n)\n",
    "samples=y(10000)\n",
    "plt.scatter(samples[:,0],samples[:,1])\n",
    "plt.xlabel(\"$y_1$ value\")\n",
    "plt.ylabel(\"$y_2$ value\")\n",
    "plt.show()\n",
    "plt.hist(samples)\n"
   ]
  },
  {
   "cell_type": "code",
   "execution_count": 13,
   "metadata": {},
   "outputs": [],
   "source": [
    "from data import findata_tools\n",
    "df = findata_tools.load_dataframe(r'/home/buzgalbraith/work/school/spring_2023/probaility-theroy-2-2023/homework_code/homework_8/data/stockprices.csv')"
   ]
  },
  {
   "cell_type": "code",
   "execution_count": 14,
   "metadata": {},
   "outputs": [
    {
     "data": {
      "text/html": [
       "<div>\n",
       "<style scoped>\n",
       "    .dataframe tbody tr th:only-of-type {\n",
       "        vertical-align: middle;\n",
       "    }\n",
       "\n",
       "    .dataframe tbody tr th {\n",
       "        vertical-align: top;\n",
       "    }\n",
       "\n",
       "    .dataframe thead th {\n",
       "        text-align: right;\n",
       "    }\n",
       "</style>\n",
       "<table border=\"1\" class=\"dataframe\">\n",
       "  <thead>\n",
       "    <tr style=\"text-align: right;\">\n",
       "      <th></th>\n",
       "      <th>AAPL</th>\n",
       "      <th>AMZN</th>\n",
       "      <th>MSFT</th>\n",
       "      <th>GOOG</th>\n",
       "      <th>XOM</th>\n",
       "      <th>APC</th>\n",
       "      <th>CVX</th>\n",
       "      <th>C</th>\n",
       "      <th>GS</th>\n",
       "      <th>JPM</th>\n",
       "      <th>AET</th>\n",
       "      <th>JNJ</th>\n",
       "      <th>DGX</th>\n",
       "      <th>SPY</th>\n",
       "      <th>XLF</th>\n",
       "      <th>SSO</th>\n",
       "      <th>SDS</th>\n",
       "      <th>USO</th>\n",
       "    </tr>\n",
       "    <tr>\n",
       "      <th>date</th>\n",
       "      <th></th>\n",
       "      <th></th>\n",
       "      <th></th>\n",
       "      <th></th>\n",
       "      <th></th>\n",
       "      <th></th>\n",
       "      <th></th>\n",
       "      <th></th>\n",
       "      <th></th>\n",
       "      <th></th>\n",
       "      <th></th>\n",
       "      <th></th>\n",
       "      <th></th>\n",
       "      <th></th>\n",
       "      <th></th>\n",
       "      <th></th>\n",
       "      <th></th>\n",
       "      <th></th>\n",
       "    </tr>\n",
       "  </thead>\n",
       "  <tbody>\n",
       "    <tr>\n",
       "      <th>2017-01-03</th>\n",
       "      <td>-50.41141</td>\n",
       "      <td>-490.017113</td>\n",
       "      <td>-21.41625</td>\n",
       "      <td>-221.370162</td>\n",
       "      <td>5.701167</td>\n",
       "      <td>11.706657</td>\n",
       "      <td>-1.828875</td>\n",
       "      <td>-8.112519</td>\n",
       "      <td>1.082154</td>\n",
       "      <td>-14.710909</td>\n",
       "      <td>-41.761741</td>\n",
       "      <td>-16.29825</td>\n",
       "      <td>-11.513875</td>\n",
       "      <td>-34.946781</td>\n",
       "      <td>-2.964125</td>\n",
       "      <td>-24.203882</td>\n",
       "      <td>14.360575</td>\n",
       "      <td>-0.343385</td>\n",
       "    </tr>\n",
       "    <tr>\n",
       "      <th>2017-01-04</th>\n",
       "      <td>-50.53741</td>\n",
       "      <td>-486.507113</td>\n",
       "      <td>-21.68545</td>\n",
       "      <td>-220.610162</td>\n",
       "      <td>4.784467</td>\n",
       "      <td>12.254657</td>\n",
       "      <td>-1.856575</td>\n",
       "      <td>-7.327319</td>\n",
       "      <td>2.601754</td>\n",
       "      <td>-14.558409</td>\n",
       "      <td>-40.647841</td>\n",
       "      <td>-16.47855</td>\n",
       "      <td>-10.920275</td>\n",
       "      <td>-33.656781</td>\n",
       "      <td>-2.780625</td>\n",
       "      <td>-23.304082</td>\n",
       "      <td>13.691275</td>\n",
       "      <td>-0.203385</td>\n",
       "    </tr>\n",
       "    <tr>\n",
       "      <th>2017-01-05</th>\n",
       "      <td>-49.96531</td>\n",
       "      <td>-463.237113</td>\n",
       "      <td>-21.68545</td>\n",
       "      <td>-213.490162</td>\n",
       "      <td>3.556167</td>\n",
       "      <td>13.037457</td>\n",
       "      <td>-2.328875</td>\n",
       "      <td>-8.351919</td>\n",
       "      <td>0.838554</td>\n",
       "      <td>-15.321009</td>\n",
       "      <td>-40.129941</td>\n",
       "      <td>-15.33025</td>\n",
       "      <td>-11.284075</td>\n",
       "      <td>-33.830081</td>\n",
       "      <td>-3.012425</td>\n",
       "      <td>-23.442482</td>\n",
       "      <td>13.730675</td>\n",
       "      <td>-0.083385</td>\n",
       "    </tr>\n",
       "    <tr>\n",
       "      <th>2017-01-06</th>\n",
       "      <td>-48.70481</td>\n",
       "      <td>-447.697113</td>\n",
       "      <td>-21.16625</td>\n",
       "      <td>-201.360162</td>\n",
       "      <td>3.510367</td>\n",
       "      <td>13.164657</td>\n",
       "      <td>-2.764175</td>\n",
       "      <td>-8.150819</td>\n",
       "      <td>4.326054</td>\n",
       "      <td>-15.311509</td>\n",
       "      <td>-40.374241</td>\n",
       "      <td>-15.86165</td>\n",
       "      <td>-11.495775</td>\n",
       "      <td>-33.050281</td>\n",
       "      <td>-2.935125</td>\n",
       "      <td>-22.878782</td>\n",
       "      <td>13.297575</td>\n",
       "      <td>-0.103385</td>\n",
       "    </tr>\n",
       "    <tr>\n",
       "      <th>2017-01-09</th>\n",
       "      <td>-47.65771</td>\n",
       "      <td>-446.767113</td>\n",
       "      <td>-21.35855</td>\n",
       "      <td>-200.860162</td>\n",
       "      <td>2.171967</td>\n",
       "      <td>11.442457</td>\n",
       "      <td>-3.690175</td>\n",
       "      <td>-8.466819</td>\n",
       "      <td>2.367954</td>\n",
       "      <td>-15.254309</td>\n",
       "      <td>-41.429541</td>\n",
       "      <td>-15.88065</td>\n",
       "      <td>-11.101275</td>\n",
       "      <td>-33.772281</td>\n",
       "      <td>-3.089725</td>\n",
       "      <td>-23.393082</td>\n",
       "      <td>13.651875</td>\n",
       "      <td>-0.473385</td>\n",
       "    </tr>\n",
       "    <tr>\n",
       "      <th>...</th>\n",
       "      <td>...</td>\n",
       "      <td>...</td>\n",
       "      <td>...</td>\n",
       "      <td>...</td>\n",
       "      <td>...</td>\n",
       "      <td>...</td>\n",
       "      <td>...</td>\n",
       "      <td>...</td>\n",
       "      <td>...</td>\n",
       "      <td>...</td>\n",
       "      <td>...</td>\n",
       "      <td>...</td>\n",
       "      <td>...</td>\n",
       "      <td>...</td>\n",
       "      <td>...</td>\n",
       "      <td>...</td>\n",
       "      <td>...</td>\n",
       "      <td>...</td>\n",
       "    </tr>\n",
       "    <tr>\n",
       "      <th>2018-09-14</th>\n",
       "      <td>60.02949</td>\n",
       "      <td>726.502887</td>\n",
       "      <td>31.29465</td>\n",
       "      <td>165.019838</td>\n",
       "      <td>4.473067</td>\n",
       "      <td>5.603657</td>\n",
       "      <td>5.279025</td>\n",
       "      <td>3.436881</td>\n",
       "      <td>-5.925546</td>\n",
       "      <td>14.389491</td>\n",
       "      <td>40.450059</td>\n",
       "      <td>12.38445</td>\n",
       "      <td>6.979325</td>\n",
       "      <td>36.103619</td>\n",
       "      <td>2.259575</td>\n",
       "      <td>25.802418</td>\n",
       "      <td>-11.074625</td>\n",
       "      <td>2.716615</td>\n",
       "    </tr>\n",
       "    <tr>\n",
       "      <th>2018-09-17</th>\n",
       "      <td>54.09019</td>\n",
       "      <td>664.342887</td>\n",
       "      <td>30.06995</td>\n",
       "      <td>148.539838</td>\n",
       "      <td>4.958167</td>\n",
       "      <td>6.558057</td>\n",
       "      <td>5.407725</td>\n",
       "      <td>3.772181</td>\n",
       "      <td>-7.270146</td>\n",
       "      <td>14.724391</td>\n",
       "      <td>42.464959</td>\n",
       "      <td>12.85145</td>\n",
       "      <td>6.425425</td>\n",
       "      <td>34.579419</td>\n",
       "      <td>2.140775</td>\n",
       "      <td>24.427618</td>\n",
       "      <td>-10.678125</td>\n",
       "      <td>2.686615</td>\n",
       "    </tr>\n",
       "    <tr>\n",
       "      <th>2018-09-18</th>\n",
       "      <td>54.44899</td>\n",
       "      <td>697.362887</td>\n",
       "      <td>31.13535</td>\n",
       "      <td>153.709838</td>\n",
       "      <td>5.175967</td>\n",
       "      <td>7.333457</td>\n",
       "      <td>6.021725</td>\n",
       "      <td>4.245581</td>\n",
       "      <td>-6.274146</td>\n",
       "      <td>15.177591</td>\n",
       "      <td>43.133359</td>\n",
       "      <td>13.42785</td>\n",
       "      <td>6.019925</td>\n",
       "      <td>36.133219</td>\n",
       "      <td>2.279275</td>\n",
       "      <td>25.772618</td>\n",
       "      <td>-11.064725</td>\n",
       "      <td>2.906615</td>\n",
       "    </tr>\n",
       "    <tr>\n",
       "      <th>2018-09-19</th>\n",
       "      <td>54.57849</td>\n",
       "      <td>682.732887</td>\n",
       "      <td>29.63185</td>\n",
       "      <td>163.579838</td>\n",
       "      <td>6.165867</td>\n",
       "      <td>7.343357</td>\n",
       "      <td>7.388425</td>\n",
       "      <td>6.573081</td>\n",
       "      <td>0.388854</td>\n",
       "      <td>18.447891</td>\n",
       "      <td>43.362759</td>\n",
       "      <td>13.34835</td>\n",
       "      <td>6.326525</td>\n",
       "      <td>36.440119</td>\n",
       "      <td>2.754275</td>\n",
       "      <td>26.031618</td>\n",
       "      <td>-11.114325</td>\n",
       "      <td>3.156615</td>\n",
       "    </tr>\n",
       "    <tr>\n",
       "      <th>2018-09-20</th>\n",
       "      <td>56.23279</td>\n",
       "      <td>700.612887</td>\n",
       "      <td>31.49375</td>\n",
       "      <td>179.359838</td>\n",
       "      <td>6.353967</td>\n",
       "      <td>6.448657</td>\n",
       "      <td>7.299225</td>\n",
       "      <td>7.628381</td>\n",
       "      <td>2.201554</td>\n",
       "      <td>19.442791</td>\n",
       "      <td>42.893959</td>\n",
       "      <td>14.85875</td>\n",
       "      <td>6.722125</td>\n",
       "      <td>38.775819</td>\n",
       "      <td>3.001575</td>\n",
       "      <td>28.004218</td>\n",
       "      <td>-11.649625</td>\n",
       "      <td>3.016615</td>\n",
       "    </tr>\n",
       "  </tbody>\n",
       "</table>\n",
       "<p>433 rows × 18 columns</p>\n",
       "</div>"
      ],
      "text/plain": [
       "                AAPL        AMZN      MSFT        GOOG       XOM        APC  \\\n",
       "date                                                                          \n",
       "2017-01-03 -50.41141 -490.017113 -21.41625 -221.370162  5.701167  11.706657   \n",
       "2017-01-04 -50.53741 -486.507113 -21.68545 -220.610162  4.784467  12.254657   \n",
       "2017-01-05 -49.96531 -463.237113 -21.68545 -213.490162  3.556167  13.037457   \n",
       "2017-01-06 -48.70481 -447.697113 -21.16625 -201.360162  3.510367  13.164657   \n",
       "2017-01-09 -47.65771 -446.767113 -21.35855 -200.860162  2.171967  11.442457   \n",
       "...              ...         ...       ...         ...       ...        ...   \n",
       "2018-09-14  60.02949  726.502887  31.29465  165.019838  4.473067   5.603657   \n",
       "2018-09-17  54.09019  664.342887  30.06995  148.539838  4.958167   6.558057   \n",
       "2018-09-18  54.44899  697.362887  31.13535  153.709838  5.175967   7.333457   \n",
       "2018-09-19  54.57849  682.732887  29.63185  163.579838  6.165867   7.343357   \n",
       "2018-09-20  56.23279  700.612887  31.49375  179.359838  6.353967   6.448657   \n",
       "\n",
       "                 CVX         C        GS        JPM        AET       JNJ  \\\n",
       "date                                                                       \n",
       "2017-01-03 -1.828875 -8.112519  1.082154 -14.710909 -41.761741 -16.29825   \n",
       "2017-01-04 -1.856575 -7.327319  2.601754 -14.558409 -40.647841 -16.47855   \n",
       "2017-01-05 -2.328875 -8.351919  0.838554 -15.321009 -40.129941 -15.33025   \n",
       "2017-01-06 -2.764175 -8.150819  4.326054 -15.311509 -40.374241 -15.86165   \n",
       "2017-01-09 -3.690175 -8.466819  2.367954 -15.254309 -41.429541 -15.88065   \n",
       "...              ...       ...       ...        ...        ...       ...   \n",
       "2018-09-14  5.279025  3.436881 -5.925546  14.389491  40.450059  12.38445   \n",
       "2018-09-17  5.407725  3.772181 -7.270146  14.724391  42.464959  12.85145   \n",
       "2018-09-18  6.021725  4.245581 -6.274146  15.177591  43.133359  13.42785   \n",
       "2018-09-19  7.388425  6.573081  0.388854  18.447891  43.362759  13.34835   \n",
       "2018-09-20  7.299225  7.628381  2.201554  19.442791  42.893959  14.85875   \n",
       "\n",
       "                  DGX        SPY       XLF        SSO        SDS       USO  \n",
       "date                                                                        \n",
       "2017-01-03 -11.513875 -34.946781 -2.964125 -24.203882  14.360575 -0.343385  \n",
       "2017-01-04 -10.920275 -33.656781 -2.780625 -23.304082  13.691275 -0.203385  \n",
       "2017-01-05 -11.284075 -33.830081 -3.012425 -23.442482  13.730675 -0.083385  \n",
       "2017-01-06 -11.495775 -33.050281 -2.935125 -22.878782  13.297575 -0.103385  \n",
       "2017-01-09 -11.101275 -33.772281 -3.089725 -23.393082  13.651875 -0.473385  \n",
       "...               ...        ...       ...        ...        ...       ...  \n",
       "2018-09-14   6.979325  36.103619  2.259575  25.802418 -11.074625  2.716615  \n",
       "2018-09-17   6.425425  34.579419  2.140775  24.427618 -10.678125  2.686615  \n",
       "2018-09-18   6.019925  36.133219  2.279275  25.772618 -11.064725  2.906615  \n",
       "2018-09-19   6.326525  36.440119  2.754275  26.031618 -11.114325  3.156615  \n",
       "2018-09-20   6.722125  38.775819  3.001575  28.004218 -11.649625  3.016615  \n",
       "\n",
       "[433 rows x 18 columns]"
      ]
     },
     "execution_count": 14,
     "metadata": {},
     "output_type": "execute_result"
    }
   ],
   "source": [
    "def center_data(df):\n",
    "    center_data=df.copy()\n",
    "    for col in df.columns:\n",
    "        center_data[col]=df[col]-np.mean(df[col])\n",
    "    return center_data\n",
    "centerd_data=center_data(df)\n",
    "centerd_data"
   ]
  },
  {
   "cell_type": "code",
   "execution_count": 15,
   "metadata": {},
   "outputs": [],
   "source": [
    "def sample_mean(x):\n",
    "    out=0\n",
    "    for x_i in x:\n",
    "        out=out+x_i\n",
    "    return out/len(x)\n",
    "def sample_variance(x):\n",
    "    inner_term=x-sample_mean(x)\n",
    "    return sample_mean(inner_term**2)\n",
    "def sample_covariance(x,y):\n",
    "    out=0\n",
    "    expected_x=sample_mean(x)\n",
    "    expected_y=sample_mean(y)\n",
    "    for i in range(len(x)):\n",
    "        out+=(x[i]-expected_x)*(y[i]-expected_y)\n",
    "    return out/(len(x)-1)\n",
    "def sample_covariance_matrix(D):\n",
    "    covariance_matrix=[]\n",
    "    for x in D:\n",
    "        temp=[]\n",
    "        for y in D:\n",
    "            temp.append(sample_covariance(D[x],D[y]))\n",
    "        covariance_matrix.append(temp)\n",
    "    return np.array(covariance_matrix)\n",
    "covariance_matrix=sample_covariance_matrix(centerd_data)"
   ]
  },
  {
   "cell_type": "code",
   "execution_count": 16,
   "metadata": {},
   "outputs": [],
   "source": [
    "eigen_values, eigen_vectors=np.linalg.eig(covariance_matrix)\n",
    "top_2=np.argsort(eigen_values)[-2:]\n",
    "top_2_eigen_vectors=eigen_values[top_2]\n",
    "top_2_eigenvalues=eigen_vectors[:,top_2]"
   ]
  }
 ],
 "metadata": {
  "kernelspec": {
   "display_name": "prob_stats_2",
   "language": "python",
   "name": "python3"
  },
  "language_info": {
   "codemirror_mode": {
    "name": "ipython",
    "version": 3
   },
   "file_extension": ".py",
   "mimetype": "text/x-python",
   "name": "python",
   "nbconvert_exporter": "python",
   "pygments_lexer": "ipython3",
   "version": "3.10.9"
  },
  "orig_nbformat": 4,
  "vscode": {
   "interpreter": {
    "hash": "4bc97200d9936b06f564d1f5f4f0907938d58cba5e08137ca7d5e4c72a5fa37b"
   }
  }
 },
 "nbformat": 4,
 "nbformat_minor": 2
}
