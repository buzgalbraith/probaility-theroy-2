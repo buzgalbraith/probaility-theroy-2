{
 "cells": [
  {
   "cell_type": "code",
   "execution_count": 6,
   "metadata": {},
   "outputs": [],
   "source": [
    "import numpy as np\n",
    "import scipy.stats as stats\n",
    "import scipy as sp \n",
    "import matplotlib.pyplot as plt"
   ]
  },
  {
   "cell_type": "code",
   "execution_count": 23,
   "metadata": {},
   "outputs": [
    {
     "name": "stdout",
     "output_type": "stream",
     "text": [
      "[[ 1.          0.          0.        ]\n",
      " [ 0.          0.70710678  0.70710678]\n",
      " [ 0.          0.70710678 -0.70710678]] \n",
      " [[1.  0.  0. ]\n",
      " [0.  0.5 0. ]\n",
      " [0.  0.  0. ]]\n",
      "[[1.   0.   0.  ]\n",
      " [0.   0.25 0.25]\n",
      " [0.   0.25 0.25]]\n"
     ]
    }
   ],
   "source": [
    "p=np.zeros([3,3])\n",
    "p[0,0]=1\n",
    "p[1,1]=1/np.sqrt(2)\n",
    "p[1,2]=1/np.sqrt(2)\n",
    "p[2,1]=1/np.sqrt(2)\n",
    "p[2,2]=-1/np.sqrt(2)\n",
    "eigen_matirx=np.zeros([3,3])\n",
    "eigen_matirx[0,0]=1\n",
    "eigen_matirx[1,1]=1/2\n",
    "print(p,\"\\n\", eigen_matirx)\n",
    "covariance_matrix=p@eigen_matirx@np.linalg.inv(p)\n",
    "print(covariance_matrix)\n",
    "\n",
    "## so only psd"
   ]
  },
  {
   "cell_type": "code",
   "execution_count": 85,
   "metadata": {},
   "outputs": [
    {
     "name": "stdout",
     "output_type": "stream",
     "text": [
      "[[ True  True  True]\n",
      " [ True  True  True]\n",
      " [ True  True  True]]\n"
     ]
    }
   ],
   "source": [
    "print(covariance_matrix==covariance_matrix.T)"
   ]
  },
  {
   "cell_type": "code",
   "execution_count": 73,
   "metadata": {},
   "outputs": [
    {
     "name": "stdout",
     "output_type": "stream",
     "text": [
      "  message: Desired error not necessarily achieved due to precision loss.\n",
      "  success: False\n",
      "   status: 2\n",
      "      fun: -721588.2437057205\n",
      "        x: [-6.995e+02  2.757e+02  2.757e+02  1.607e+03]\n",
      "      nit: 2\n",
      "      jac: [ 4.656e+00 -2.776e+02 -2.776e+02 -8.008e+02]\n",
      " hess_inv: [[ 5.387e-01 -1.058e-01 -1.058e-01  9.508e-01]\n",
      "            [-1.058e-01  5.723e-01 -4.277e-01 -3.946e-01]\n",
      "            [-1.058e-01 -4.277e-01  5.723e-01 -3.946e-01]\n",
      "            [ 9.508e-01 -3.946e-01 -3.946e-01 -1.728e+00]]\n",
      "     nfev: 577\n",
      "     njev: 113\n"
     ]
    }
   ],
   "source": [
    "def legrangian_to_max(a):\n",
    "    a_1, a_2, a_3, shadow = a\n",
    "    return a_1**2 + 0.25*(a_2**2 + a_3**2) + 0.5*a_2*a_3 - shadow*(np.linalg.norm([a_1,a_2,a_3]))\n",
    "\n",
    "legrangian_to_min = lambda x: -1*legrangian_to_max(x)\n",
    "\n",
    "\n",
    "result = sp.optimize.minimize(legrangian_to_max, x0=[.5,.5,.5,1])\n",
    "\n",
    "print(result)\n"
   ]
  },
  {
   "cell_type": "code",
   "execution_count": null,
   "metadata": {},
   "outputs": [],
   "source": [
    "\n",
    "def objective(a):\n",
    "    a_1, a_2, a_3 = a\n",
    "    return a_1**2 + 0.25*(a_2**2 + a_3**2) + 0.5*a_2*a_3 \n",
    "\n",
    "def lagrangian(a, shadow):\n",
    "    return objective(a) - shadow*(np.sqrt(a[0]**2 + a[1]**2 + a[2]**2) - 1)\n",
    "\n",
    "min_funct = lambda x: objective(x)\n",
    "\n",
    "constraints = [{'type': 'eq', 'fun': lambda x: np.sqrt(x[0]**2 + x[1]**2 + x[2]**2) - 1}]\n",
    "\n",
    "result = sp.optimize.minimize(lagrangian, x0=[1, 1, 1, 1], args=(2,), constraints=constraints)\n",
    "\n",
    "print(result)"
   ]
  },
  {
   "cell_type": "code",
   "execution_count": 86,
   "metadata": {},
   "outputs": [
    {
     "name": "stdout",
     "output_type": "stream",
     "text": [
      "0.4999999999999999\n"
     ]
    },
    {
     "data": {
      "text/plain": [
       "0.0"
      ]
     },
     "execution_count": 86,
     "metadata": {},
     "output_type": "execute_result"
    }
   ],
   "source": [
    "a=[0,(1/np.sqrt(2)),(1/np.sqrt(2))]\n",
    "def objective(a):\n",
    "    a_1, a_2, a_3 = a\n",
    "    return a_1**2 + 0.25*(a_2**2 + a_3**2) + 0.5*a_2*a_3 \n",
    "objective(a) ##.5 \n",
    "a=[1,0,0]\n",
    "objective(a) ##!1\n",
    "a=[0,1/np.sqrt(2),1/np.sqrt(2)] ##.66 \n",
    "print(objective(a) )\n",
    "a=[0,1/np.sqrt(2),-1/np.sqrt(2)] ##.66 \n",
    "objective(a) "
   ]
  },
  {
   "cell_type": "code",
   "execution_count": 82,
   "metadata": {},
   "outputs": [
    {
     "data": {
      "text/plain": [
       "array([0., 0., 0.])"
      ]
     },
     "execution_count": 82,
     "metadata": {},
     "output_type": "execute_result"
    }
   ],
   "source": [
    "covariance_matrix\n",
    "a=np.array([0,-1,1])\n",
    "np.dot(covariance_matrix,a)"
   ]
  },
  {
   "cell_type": "code",
   "execution_count": 90,
   "metadata": {},
   "outputs": [
    {
     "data": {
      "text/plain": [
       "array([[100., -80.,  10.],\n",
       "       [-80.,  81.,  50.],\n",
       "       [ 10.,  50., 100.]])"
      ]
     },
     "execution_count": 90,
     "metadata": {},
     "output_type": "execute_result"
    }
   ],
   "source": [
    "covariance_matrix=np.zeros([3,3])\n",
    "covariance_matrix[0,:]=[100,-80,10]\n",
    "covariance_matrix[1,:]=[-80,81,50]\n",
    "covariance_matrix[2,:]=[10,50,100]\n",
    "covariance_matrix"
   ]
  },
  {
   "cell_type": "code",
   "execution_count": 93,
   "metadata": {},
   "outputs": [
    {
     "name": "stdout",
     "output_type": "stream",
     "text": [
      "21.0\n",
      "220.0\n",
      "281.0\n"
     ]
    }
   ],
   "source": [
    "def find_variance(a, covariance_matrix):\n",
    "    return np.dot(a,covariance_matrix)@a\n",
    "a=np.array([1,1,0])\n",
    "print(find_variance(a,covariance_matrix))\n",
    "a=np.array([1,0,1])\n",
    "print(find_variance(a,covariance_matrix))\n",
    "a=np.array([0,1,1])\n",
    "print(find_variance(a,covariance_matrix))"
   ]
  },
  {
   "cell_type": "code",
   "execution_count": 136,
   "metadata": {},
   "outputs": [
    {
     "data": {
      "image/png": "[encoded data removed]",
      "text/plain": [
       "<Figure size 640x480 with 1 Axes>"
      ]
     },
     "metadata": {},
     "output_type": "display_data"
    },
    {
     "data": {
      "text/plain": [
       "(array([[   8.,   56.,  329., 1130., 2382., 2855., 1998.,  923.,  284.,\n",
       "           35.],\n",
       "        [   8.,   56.,  321., 1133., 2409., 2830., 2000.,  924.,  283.,\n",
       "           36.]]),\n",
       " array([-137.41619433, -111.98189154,  -86.54758875,  -61.11328596,\n",
       "         -35.67898317,  -10.24468038,   15.18962241,   40.6239252 ,\n",
       "          66.05822799,   91.49253078,  116.92683357]),\n",
       " <a list of 2 BarContainer objects>)"
      ]
     },
     "execution_count": 136,
     "metadata": {},
     "output_type": "execute_result"
    },
    {
     "data": {
      "image/png": "[encoded data removed]",
      "text/plain": [
       "<Figure size 640x480 with 1 Axes>"
      ]
     },
     "metadata": {},
     "output_type": "display_data"
    }
   ],
   "source": [
    "sigma_signal=50\n",
    "sigma_noise=np.identity(2)*1\n",
    "x=stats.norm(loc=0, scale=sigma_signal)\n",
    "z=stats.multivariate_normal(mean=[0,0],cov=sigma_noise)\n",
    "v=np.array([1/np.sqrt(2),1/np.sqrt(2)])\n",
    "def y(n):\n",
    "    ellement_wise_multiply = lambda v,n: np.array([v*x_i for x_i in x.rvs(n)])\n",
    "    return ellement_wise_multiply(v,n)+z.rvs(size=n)\n",
    "samples=y(10000)\n",
    "plt.scatter(samples[:,0],samples[:,1])\n",
    "plt.show()\n",
    "plt.hist(samples)\n"
   ]
  },
  {
   "cell_type": "code",
   "execution_count": 137,
   "metadata": {},
   "outputs": [
    {
     "data": {
      "image/png": "[encoded data removed]",
      "text/plain": [
       "<Figure size 640x480 with 1 Axes>"
      ]
     },
     "metadata": {},
     "output_type": "display_data"
    },
    {
     "data": {
      "text/plain": [
       "(array([[0.000e+00, 2.200e+01, 2.160e+02, 9.740e+02, 2.396e+03, 3.275e+03,\n",
       "         2.221e+03, 7.640e+02, 1.250e+02, 7.000e+00],\n",
       "        [1.000e+00, 1.800e+01, 1.870e+02, 9.770e+02, 2.477e+03, 3.226e+03,\n",
       "         2.215e+03, 7.420e+02, 1.430e+02, 1.400e+01]]),\n",
       " array([-32.05511422, -26.11658044, -20.17804665, -14.23951286,\n",
       "         -8.30097908,  -2.36244529,   3.57608849,   9.51462228,\n",
       "         15.45315606,  21.39168985,  27.33022363]),\n",
       " <a list of 2 BarContainer objects>)"
      ]
     },
     "execution_count": 137,
     "metadata": {},
     "output_type": "execute_result"
    },
    {
     "data": {
      "image/png": "[encoded data removed]",
      "text/plain": [
       "<Figure size 640x480 with 1 Axes>"
      ]
     },
     "metadata": {},
     "output_type": "display_data"
    }
   ],
   "source": [
    "sigma_signal=1\n",
    "sigma_noise=np.identity(2)*50\n",
    "x=stats.norm(loc=0, scale=sigma_signal)\n",
    "z=stats.multivariate_normal(mean=[0,0],cov=sigma_noise)\n",
    "v=np.array([1/np.sqrt(2),1/np.sqrt(2)])\n",
    "def y(n):\n",
    "    ellement_wise_multiply = lambda v,n: np.array([v*x_i for x_i in x.rvs(n)])\n",
    "    return ellement_wise_multiply(v,n)+z.rvs(size=n)\n",
    "samples=y(10000)\n",
    "plt.scatter(samples[:,0],samples[:,1])\n",
    "plt.show()\n",
    "plt.hist(samples)\n"
   ]
  },
  {
   "cell_type": "code",
   "execution_count": 16,
   "metadata": {},
   "outputs": [],
   "source": [
    "from data import findata_tools\n",
    "df = findata_tools.load_dataframe(r'/home/buzgalbraith/work/school/spring_2023/probaility-theroy-2-2023/homework_code/homework_8/data/stockprices.csv')"
   ]
  },
  {
   "cell_type": "code",
   "execution_count": 29,
   "metadata": {},
   "outputs": [
    {
     "data": {
      "text/html": [
       "<div>\n",
       "<style scoped>\n",
       "    .dataframe tbody tr th:only-of-type {\n",
       "        vertical-align: middle;\n",
       "    }\n",
       "\n",
       "    .dataframe tbody tr th {\n",
       "        vertical-align: top;\n",
       "    }\n",
       "\n",
       "    .dataframe thead th {\n",
       "        text-align: right;\n",
       "    }\n",
       "</style>\n",
       "<table border=\"1\" class=\"dataframe\">\n",
       "  <thead>\n",
       "    <tr style=\"text-align: right;\">\n",
       "      <th></th>\n",
       "      <th>AAPL</th>\n",
       "      <th>AMZN</th>\n",
       "      <th>MSFT</th>\n",
       "      <th>GOOG</th>\n",
       "      <th>XOM</th>\n",
       "      <th>APC</th>\n",
       "      <th>CVX</th>\n",
       "      <th>C</th>\n",
       "      <th>GS</th>\n",
       "      <th>JPM</th>\n",
       "      <th>AET</th>\n",
       "      <th>JNJ</th>\n",
       "      <th>DGX</th>\n",
       "      <th>SPY</th>\n",
       "      <th>XLF</th>\n",
       "      <th>SSO</th>\n",
       "      <th>SDS</th>\n",
       "      <th>USO</th>\n",
       "    </tr>\n",
       "    <tr>\n",
       "      <th>date</th>\n",
       "      <th></th>\n",
       "      <th></th>\n",
       "      <th></th>\n",
       "      <th></th>\n",
       "      <th></th>\n",
       "      <th></th>\n",
       "      <th></th>\n",
       "      <th></th>\n",
       "      <th></th>\n",
       "      <th></th>\n",
       "      <th></th>\n",
       "      <th></th>\n",
       "      <th></th>\n",
       "      <th></th>\n",
       "      <th></th>\n",
       "      <th></th>\n",
       "      <th></th>\n",
       "      <th></th>\n",
       "    </tr>\n",
       "  </thead>\n",
       "  <tbody>\n",
       "    <tr>\n",
       "      <th>2017-01-03</th>\n",
       "      <td>-50.41141</td>\n",
       "      <td>-490.017113</td>\n",
       "      <td>-21.41625</td>\n",
       "      <td>-221.370162</td>\n",
       "      <td>5.701167</td>\n",
       "      <td>11.706657</td>\n",
       "      <td>-1.828875</td>\n",
       "      <td>-8.112519</td>\n",
       "      <td>1.082154</td>\n",
       "      <td>-14.710909</td>\n",
       "      <td>-41.761741</td>\n",
       "      <td>-16.29825</td>\n",
       "      <td>-11.513875</td>\n",
       "      <td>-34.946781</td>\n",
       "      <td>-2.964125</td>\n",
       "      <td>-24.203882</td>\n",
       "      <td>14.360575</td>\n",
       "      <td>-0.343385</td>\n",
       "    </tr>\n",
       "    <tr>\n",
       "      <th>2017-01-04</th>\n",
       "      <td>-50.53741</td>\n",
       "      <td>-486.507113</td>\n",
       "      <td>-21.68545</td>\n",
       "      <td>-220.610162</td>\n",
       "      <td>4.784467</td>\n",
       "      <td>12.254657</td>\n",
       "      <td>-1.856575</td>\n",
       "      <td>-7.327319</td>\n",
       "      <td>2.601754</td>\n",
       "      <td>-14.558409</td>\n",
       "      <td>-40.647841</td>\n",
       "      <td>-16.47855</td>\n",
       "      <td>-10.920275</td>\n",
       "      <td>-33.656781</td>\n",
       "      <td>-2.780625</td>\n",
       "      <td>-23.304082</td>\n",
       "      <td>13.691275</td>\n",
       "      <td>-0.203385</td>\n",
       "    </tr>\n",
       "    <tr>\n",
       "      <th>2017-01-05</th>\n",
       "      <td>-49.96531</td>\n",
       "      <td>-463.237113</td>\n",
       "      <td>-21.68545</td>\n",
       "      <td>-213.490162</td>\n",
       "      <td>3.556167</td>\n",
       "      <td>13.037457</td>\n",
       "      <td>-2.328875</td>\n",
       "      <td>-8.351919</td>\n",
       "      <td>0.838554</td>\n",
       "      <td>-15.321009</td>\n",
       "      <td>-40.129941</td>\n",
       "      <td>-15.33025</td>\n",
       "      <td>-11.284075</td>\n",
       "      <td>-33.830081</td>\n",
       "      <td>-3.012425</td>\n",
       "      <td>-23.442482</td>\n",
       "      <td>13.730675</td>\n",
       "      <td>-0.083385</td>\n",
       "    </tr>\n",
       "    <tr>\n",
       "      <th>2017-01-06</th>\n",
       "      <td>-48.70481</td>\n",
       "      <td>-447.697113</td>\n",
       "      <td>-21.16625</td>\n",
       "      <td>-201.360162</td>\n",
       "      <td>3.510367</td>\n",
       "      <td>13.164657</td>\n",
       "      <td>-2.764175</td>\n",
       "      <td>-8.150819</td>\n",
       "      <td>4.326054</td>\n",
       "      <td>-15.311509</td>\n",
       "      <td>-40.374241</td>\n",
       "      <td>-15.86165</td>\n",
       "      <td>-11.495775</td>\n",
       "      <td>-33.050281</td>\n",
       "      <td>-2.935125</td>\n",
       "      <td>-22.878782</td>\n",
       "      <td>13.297575</td>\n",
       "      <td>-0.103385</td>\n",
       "    </tr>\n",
       "    <tr>\n",
       "      <th>2017-01-09</th>\n",
       "      <td>-47.65771</td>\n",
       "      <td>-446.767113</td>\n",
       "      <td>-21.35855</td>\n",
       "      <td>-200.860162</td>\n",
       "      <td>2.171967</td>\n",
       "      <td>11.442457</td>\n",
       "      <td>-3.690175</td>\n",
       "      <td>-8.466819</td>\n",
       "      <td>2.367954</td>\n",
       "      <td>-15.254309</td>\n",
       "      <td>-41.429541</td>\n",
       "      <td>-15.88065</td>\n",
       "      <td>-11.101275</td>\n",
       "      <td>-33.772281</td>\n",
       "      <td>-3.089725</td>\n",
       "      <td>-23.393082</td>\n",
       "      <td>13.651875</td>\n",
       "      <td>-0.473385</td>\n",
       "    </tr>\n",
       "    <tr>\n",
       "      <th>...</th>\n",
       "      <td>...</td>\n",
       "      <td>...</td>\n",
       "      <td>...</td>\n",
       "      <td>...</td>\n",
       "      <td>...</td>\n",
       "      <td>...</td>\n",
       "      <td>...</td>\n",
       "      <td>...</td>\n",
       "      <td>...</td>\n",
       "      <td>...</td>\n",
       "      <td>...</td>\n",
       "      <td>...</td>\n",
       "      <td>...</td>\n",
       "      <td>...</td>\n",
       "      <td>...</td>\n",
       "      <td>...</td>\n",
       "      <td>...</td>\n",
       "      <td>...</td>\n",
       "    </tr>\n",
       "    <tr>\n",
       "      <th>2018-09-14</th>\n",
       "      <td>60.02949</td>\n",
       "      <td>726.502887</td>\n",
       "      <td>31.29465</td>\n",
       "      <td>165.019838</td>\n",
       "      <td>4.473067</td>\n",
       "      <td>5.603657</td>\n",
       "      <td>5.279025</td>\n",
       "      <td>3.436881</td>\n",
       "      <td>-5.925546</td>\n",
       "      <td>14.389491</td>\n",
       "      <td>40.450059</td>\n",
       "      <td>12.38445</td>\n",
       "      <td>6.979325</td>\n",
       "      <td>36.103619</td>\n",
       "      <td>2.259575</td>\n",
       "      <td>25.802418</td>\n",
       "      <td>-11.074625</td>\n",
       "      <td>2.716615</td>\n",
       "    </tr>\n",
       "    <tr>\n",
       "      <th>2018-09-17</th>\n",
       "      <td>54.09019</td>\n",
       "      <td>664.342887</td>\n",
       "      <td>30.06995</td>\n",
       "      <td>148.539838</td>\n",
       "      <td>4.958167</td>\n",
       "      <td>6.558057</td>\n",
       "      <td>5.407725</td>\n",
       "      <td>3.772181</td>\n",
       "      <td>-7.270146</td>\n",
       "      <td>14.724391</td>\n",
       "      <td>42.464959</td>\n",
       "      <td>12.85145</td>\n",
       "      <td>6.425425</td>\n",
       "      <td>34.579419</td>\n",
       "      <td>2.140775</td>\n",
       "      <td>24.427618</td>\n",
       "      <td>-10.678125</td>\n",
       "      <td>2.686615</td>\n",
       "    </tr>\n",
       "    <tr>\n",
       "      <th>2018-09-18</th>\n",
       "      <td>54.44899</td>\n",
       "      <td>697.362887</td>\n",
       "      <td>31.13535</td>\n",
       "      <td>153.709838</td>\n",
       "      <td>5.175967</td>\n",
       "      <td>7.333457</td>\n",
       "      <td>6.021725</td>\n",
       "      <td>4.245581</td>\n",
       "      <td>-6.274146</td>\n",
       "      <td>15.177591</td>\n",
       "      <td>43.133359</td>\n",
       "      <td>13.42785</td>\n",
       "      <td>6.019925</td>\n",
       "      <td>36.133219</td>\n",
       "      <td>2.279275</td>\n",
       "      <td>25.772618</td>\n",
       "      <td>-11.064725</td>\n",
       "      <td>2.906615</td>\n",
       "    </tr>\n",
       "    <tr>\n",
       "      <th>2018-09-19</th>\n",
       "      <td>54.57849</td>\n",
       "      <td>682.732887</td>\n",
       "      <td>29.63185</td>\n",
       "      <td>163.579838</td>\n",
       "      <td>6.165867</td>\n",
       "      <td>7.343357</td>\n",
       "      <td>7.388425</td>\n",
       "      <td>6.573081</td>\n",
       "      <td>0.388854</td>\n",
       "      <td>18.447891</td>\n",
       "      <td>43.362759</td>\n",
       "      <td>13.34835</td>\n",
       "      <td>6.326525</td>\n",
       "      <td>36.440119</td>\n",
       "      <td>2.754275</td>\n",
       "      <td>26.031618</td>\n",
       "      <td>-11.114325</td>\n",
       "      <td>3.156615</td>\n",
       "    </tr>\n",
       "    <tr>\n",
       "      <th>2018-09-20</th>\n",
       "      <td>56.23279</td>\n",
       "      <td>700.612887</td>\n",
       "      <td>31.49375</td>\n",
       "      <td>179.359838</td>\n",
       "      <td>6.353967</td>\n",
       "      <td>6.448657</td>\n",
       "      <td>7.299225</td>\n",
       "      <td>7.628381</td>\n",
       "      <td>2.201554</td>\n",
       "      <td>19.442791</td>\n",
       "      <td>42.893959</td>\n",
       "      <td>14.85875</td>\n",
       "      <td>6.722125</td>\n",
       "      <td>38.775819</td>\n",
       "      <td>3.001575</td>\n",
       "      <td>28.004218</td>\n",
       "      <td>-11.649625</td>\n",
       "      <td>3.016615</td>\n",
       "    </tr>\n",
       "  </tbody>\n",
       "</table>\n",
       "<p>433 rows × 18 columns</p>\n",
       "</div>"
      ],
      "text/plain": [
       "                AAPL        AMZN      MSFT        GOOG       XOM        APC  \\\n",
       "date                                                                          \n",
       "2017-01-03 -50.41141 -490.017113 -21.41625 -221.370162  5.701167  11.706657   \n",
       "2017-01-04 -50.53741 -486.507113 -21.68545 -220.610162  4.784467  12.254657   \n",
       "2017-01-05 -49.96531 -463.237113 -21.68545 -213.490162  3.556167  13.037457   \n",
       "2017-01-06 -48.70481 -447.697113 -21.16625 -201.360162  3.510367  13.164657   \n",
       "2017-01-09 -47.65771 -446.767113 -21.35855 -200.860162  2.171967  11.442457   \n",
       "...              ...         ...       ...         ...       ...        ...   \n",
       "2018-09-14  60.02949  726.502887  31.29465  165.019838  4.473067   5.603657   \n",
       "2018-09-17  54.09019  664.342887  30.06995  148.539838  4.958167   6.558057   \n",
       "2018-09-18  54.44899  697.362887  31.13535  153.709838  5.175967   7.333457   \n",
       "2018-09-19  54.57849  682.732887  29.63185  163.579838  6.165867   7.343357   \n",
       "2018-09-20  56.23279  700.612887  31.49375  179.359838  6.353967   6.448657   \n",
       "\n",
       "                 CVX         C        GS        JPM        AET       JNJ  \\\n",
       "date                                                                       \n",
       "2017-01-03 -1.828875 -8.112519  1.082154 -14.710909 -41.761741 -16.29825   \n",
       "2017-01-04 -1.856575 -7.327319  2.601754 -14.558409 -40.647841 -16.47855   \n",
       "2017-01-05 -2.328875 -8.351919  0.838554 -15.321009 -40.129941 -15.33025   \n",
       "2017-01-06 -2.764175 -8.150819  4.326054 -15.311509 -40.374241 -15.86165   \n",
       "2017-01-09 -3.690175 -8.466819  2.367954 -15.254309 -41.429541 -15.88065   \n",
       "...              ...       ...       ...        ...        ...       ...   \n",
       "2018-09-14  5.279025  3.436881 -5.925546  14.389491  40.450059  12.38445   \n",
       "2018-09-17  5.407725  3.772181 -7.270146  14.724391  42.464959  12.85145   \n",
       "2018-09-18  6.021725  4.245581 -6.274146  15.177591  43.133359  13.42785   \n",
       "2018-09-19  7.388425  6.573081  0.388854  18.447891  43.362759  13.34835   \n",
       "2018-09-20  7.299225  7.628381  2.201554  19.442791  42.893959  14.85875   \n",
       "\n",
       "                  DGX        SPY       XLF        SSO        SDS       USO  \n",
       "date                                                                        \n",
       "2017-01-03 -11.513875 -34.946781 -2.964125 -24.203882  14.360575 -0.343385  \n",
       "2017-01-04 -10.920275 -33.656781 -2.780625 -23.304082  13.691275 -0.203385  \n",
       "2017-01-05 -11.284075 -33.830081 -3.012425 -23.442482  13.730675 -0.083385  \n",
       "2017-01-06 -11.495775 -33.050281 -2.935125 -22.878782  13.297575 -0.103385  \n",
       "2017-01-09 -11.101275 -33.772281 -3.089725 -23.393082  13.651875 -0.473385  \n",
       "...               ...        ...       ...        ...        ...       ...  \n",
       "2018-09-14   6.979325  36.103619  2.259575  25.802418 -11.074625  2.716615  \n",
       "2018-09-17   6.425425  34.579419  2.140775  24.427618 -10.678125  2.686615  \n",
       "2018-09-18   6.019925  36.133219  2.279275  25.772618 -11.064725  2.906615  \n",
       "2018-09-19   6.326525  36.440119  2.754275  26.031618 -11.114325  3.156615  \n",
       "2018-09-20   6.722125  38.775819  3.001575  28.004218 -11.649625  3.016615  \n",
       "\n",
       "[433 rows x 18 columns]"
      ]
     },
     "execution_count": 29,
     "metadata": {},
     "output_type": "execute_result"
    }
   ],
   "source": [
    "def center_data(df):\n",
    "    center_data=df.copy()\n",
    "    for col in df.columns:\n",
    "        center_data[col]=df[col]-np.mean(df[col])\n",
    "    return center_data\n",
    "centerd_data=center_data(df)\n",
    "centerd_data"
   ]
  },
  {
   "cell_type": "code",
   "execution_count": 63,
   "metadata": {},
   "outputs": [],
   "source": [
    "def sample_mean(x):\n",
    "    out=0\n",
    "    for x_i in x:\n",
    "        out=out+x_i\n",
    "    return out/len(x)\n",
    "def sample_variance(x):\n",
    "    inner_term=x-sample_mean(x)\n",
    "    return sample_mean(inner_term**2)\n",
    "def sample_covariance(x,y):\n",
    "    out=0\n",
    "    expected_x=sample_mean(x)\n",
    "    expected_y=sample_mean(y)\n",
    "    for i in range(len(x)):\n",
    "        out+=(x[i]-expected_x)*(y[i]-expected_y)\n",
    "    return out/(len(x)-1)\n",
    "def sample_covariance_matrix(D):\n",
    "    covariance_matrix=[]\n",
    "    for x in D:\n",
    "        temp=[]\n",
    "        for y in D:\n",
    "            temp.append(sample_covariance(D[x],D[y]))\n",
    "        covariance_matrix.append(temp)\n",
    "    return np.array(covariance_matrix)\n",
    "covariance_matrix=sample_covariance_matrix(centerd_data)"
   ]
  },
  {
   "cell_type": "code",
   "execution_count": 75,
   "metadata": {},
   "outputs": [],
   "source": [
    "eigen_values, eigen_vectors=np.linalg.eig(covariance_matrix)\n",
    "top_2=np.argsort(eigen_values)[-2:]\n",
    "top_2_eigen_vectors=eigen_values[top_2]\n",
    "top_2_eigenvalues=eigen_vectors[:,top_2]"
   ]
  }
 ],
 "metadata": {
  "kernelspec": {
   "display_name": "prob_stats_2",
   "language": "python",
   "name": "python3"
  },
  "language_info": {
   "codemirror_mode": {
    "name": "ipython",
    "version": 3
   },
   "file_extension": ".py",
   "mimetype": "text/x-python",
   "name": "python",
   "nbconvert_exporter": "python",
   "pygments_lexer": "ipython3",
   "version": "3.10.9"
  },
  "orig_nbformat": 4,
  "vscode": {
   "interpreter": {
    "hash": "4bc97200d9936b06f564d1f5f4f0907938d58cba5e08137ca7d5e4c72a5fa37b"
   }
  }
 },
 "nbformat": 4,
 "nbformat_minor": 2
}
