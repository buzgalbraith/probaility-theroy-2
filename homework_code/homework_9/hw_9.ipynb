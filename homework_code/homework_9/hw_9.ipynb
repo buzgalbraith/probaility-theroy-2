{
 "cells": [
  {
   "cell_type": "code",
   "execution_count": 2,
   "metadata": {},
   "outputs": [],
   "source": [
    "import numpy as np "
   ]
  },
  {
   "cell_type": "code",
   "execution_count": 18,
   "metadata": {},
   "outputs": [],
   "source": [
    "cov=np.zeros([3,3])\n",
    "cov[0,:]=[100,25,0]\n",
    "cov[1,:]=[25,400,0]\n",
    "cov[2,:]=[0,0,.16]\n",
    "y=np.array([1/np.sqrt(cov[i,i]) for i in range(cov.shape[0])])\n"
   ]
  },
  {
   "cell_type": "code",
   "execution_count": 19,
   "metadata": {},
   "outputs": [
    {
     "data": {
      "text/plain": [
       "array([[1.   , 0.125, 0.   ],\n",
       "       [0.125, 1.   , 0.   ],\n",
       "       [0.   , 0.   , 1.   ]])"
      ]
     },
     "execution_count": 19,
     "metadata": {},
     "output_type": "execute_result"
    }
   ],
   "source": [
    "cov_y=cov.copy()\n",
    "for i in range(cov.shape[0]):\n",
    "    for j in range(cov.shape[1]):\n",
    "        cov_y[i,j]=cov_y[i,j]*y[i]*y[j]\n",
    "cov_y"
   ]
  },
  {
   "cell_type": "code",
   "execution_count": 34,
   "metadata": {},
   "outputs": [
    {
     "data": {
      "text/plain": [
       "array([[1.08333333]])"
      ]
     },
     "execution_count": 34,
     "metadata": {},
     "output_type": "execute_result"
    }
   ],
   "source": [
    "y_prime=np.ones((3,1))\n",
    "# y_prime[:,0]=[1,2,3]\n",
    "normalize= lambda  y_prime: y_prime/np.linalg.norm(y_prime)\n",
    "y=normalize(y_prime)\n",
    "y.T@cov_y@y"
   ]
  },
  {
   "cell_type": "code",
   "execution_count": 49,
   "metadata": {},
   "outputs": [
    {
     "name": "stdout",
     "output_type": "stream",
     "text": [
      "[1.125 0.875 1.   ]\n",
      "[[ 0.70710678 -0.70710678  0.        ]\n",
      " [ 0.70710678  0.70710678  0.        ]\n",
      " [ 0.          0.          1.        ]]\n",
      "[2 0]\n",
      "[[0.         0.70710678]\n",
      " [0.         0.70710678]\n",
      " [1.         0.        ]]\n"
     ]
    }
   ],
   "source": [
    "k=2\n",
    "eig_vals, eig_vectors=np.linalg.eig(cov_y)\n",
    "print(eig_vals)\n",
    "print(eig_vectors)\n",
    "index=np.argsort(eig_vals)[eig_vals.shape[0] -k :]\n",
    "print(index)\n",
    "principal_directions=eig_vectors[:, index]\n",
    "print(principal_directions)"
   ]
  }
 ],
 "metadata": {
  "kernelspec": {
   "display_name": "prob_stats_2",
   "language": "python",
   "name": "python3"
  },
  "language_info": {
   "codemirror_mode": {
    "name": "ipython",
    "version": 3
   },
   "file_extension": ".py",
   "mimetype": "text/x-python",
   "name": "python",
   "nbconvert_exporter": "python",
   "pygments_lexer": "ipython3",
   "version": "3.10.9"
  },
  "orig_nbformat": 4
 },
 "nbformat": 4,
 "nbformat_minor": 2
}
